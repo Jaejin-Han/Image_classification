{
 "cells": [
  {
   "cell_type": "markdown",
   "metadata": {
    "collapsed": true,
    "deletable": true,
    "editable": true
   },
   "source": [
    "# Image Classification\n",
    "In this project, you'll classify images from the [CIFAR-10 dataset](https://www.cs.toronto.edu/~kriz/cifar.html).  The dataset consists of airplanes, dogs, cats, and other objects. You'll preprocess the images, then train a convolutional neural network on all the samples. The images need to be normalized and the labels need to be one-hot encoded.  You'll get to apply what you learned and build a convolutional, max pooling, dropout, and fully connected layers.  At the end, you'll get to see your neural network's predictions on the sample images.\n",
    "## Get the Data\n",
    "Run the following cell to download the [CIFAR-10 dataset for python](https://www.cs.toronto.edu/~kriz/cifar-10-python.tar.gz)."
   ]
  },
  {
   "cell_type": "code",
   "execution_count": 1,
   "metadata": {
    "collapsed": false,
    "deletable": true,
    "editable": true
   },
   "outputs": [
    {
     "name": "stdout",
     "output_type": "stream",
     "text": [
      "All files found!\n"
     ]
    }
   ],
   "source": [
    "\"\"\"\n",
    "DON'T MODIFY ANYTHING IN THIS CELL THAT IS BELOW THIS LINE\n",
    "\"\"\"\n",
    "from urllib.request import urlretrieve\n",
    "from os.path import isfile, isdir\n",
    "from tqdm import tqdm\n",
    "import problem_unittests as tests\n",
    "import tarfile\n",
    "\n",
    "cifar10_dataset_folder_path = 'cifar-10-batches-py'\n",
    "\n",
    "# Use Floyd's cifar-10 dataset if present\n",
    "floyd_cifar10_location = '/input/cifar-10/python.tar.gz'\n",
    "if isfile(floyd_cifar10_location):\n",
    "    tar_gz_path = floyd_cifar10_location\n",
    "else:\n",
    "    tar_gz_path = 'cifar-10-python.tar.gz'\n",
    "\n",
    "class DLProgress(tqdm):\n",
    "    last_block = 0\n",
    "\n",
    "    def hook(self, block_num=1, block_size=1, total_size=None):\n",
    "        self.total = total_size\n",
    "        self.update((block_num - self.last_block) * block_size)\n",
    "        self.last_block = block_num\n",
    "\n",
    "if not isfile(tar_gz_path):\n",
    "    with DLProgress(unit='B', unit_scale=True, miniters=1, desc='CIFAR-10 Dataset') as pbar:\n",
    "        urlretrieve(\n",
    "            'https://www.cs.toronto.edu/~kriz/cifar-10-python.tar.gz',\n",
    "            tar_gz_path,\n",
    "            pbar.hook)\n",
    "\n",
    "if not isdir(cifar10_dataset_folder_path):\n",
    "    with tarfile.open(tar_gz_path) as tar:\n",
    "        tar.extractall()\n",
    "        tar.close()\n",
    "\n",
    "\n",
    "tests.test_folder_path(cifar10_dataset_folder_path)"
   ]
  },
  {
   "cell_type": "markdown",
   "metadata": {
    "deletable": true,
    "editable": true
   },
   "source": [
    "## Explore the Data\n",
    "The dataset is broken into batches to prevent your machine from running out of memory.  The CIFAR-10 dataset consists of 5 batches, named `data_batch_1`, `data_batch_2`, etc.. Each batch contains the labels and images that are one of the following:\n",
    "* airplane\n",
    "* automobile\n",
    "* bird\n",
    "* cat\n",
    "* deer\n",
    "* dog\n",
    "* frog\n",
    "* horse\n",
    "* ship\n",
    "* truck\n",
    "\n",
    "Understanding a dataset is part of making predictions on the data.  Play around with the code cell below by changing the `batch_id` and `sample_id`. The `batch_id` is the id for a batch (1-5). The `sample_id` is the id for a image and label pair in the batch.\n",
    "\n",
    "Ask yourself \"What are all possible labels?\", \"What is the range of values for the image data?\", \"Are the labels in order or random?\".  Answers to questions like these will help you preprocess the data and end up with better predictions."
   ]
  },
  {
   "cell_type": "code",
   "execution_count": 2,
   "metadata": {
    "collapsed": false,
    "deletable": true,
    "editable": true
   },
   "outputs": [
    {
     "name": "stdout",
     "output_type": "stream",
     "text": [
      "\n",
      "Stats of batch 1:\n",
      "Samples: 10000\n",
      "Label Counts: {0: 1005, 1: 974, 2: 1032, 3: 1016, 4: 999, 5: 937, 6: 1030, 7: 1001, 8: 1025, 9: 981}\n",
      "First 20 Labels: [6, 9, 9, 4, 1, 1, 2, 7, 8, 3, 4, 7, 7, 2, 9, 9, 9, 3, 2, 6]\n",
      "\n",
      "Example of Image 5:\n",
      "Image - Min Value: 0 Max Value: 252\n",
      "Image - Shape: (32, 32, 3)\n",
      "Label - Label Id: 1 Name: automobile\n"
     ]
    },
    {
     "data": {
      "image/png": "[encoded data removed]",
      "text/plain": [
       "<matplotlib.figure.Figure at 0x7f259918c860>"
      ]
     },
     "metadata": {
      "image/png": {
       "height": 250,
       "width": 253
      }
     },
     "output_type": "display_data"
    }
   ],
   "source": [
    "%matplotlib inline\n",
    "%config InlineBackend.figure_format = 'retina'\n",
    "\n",
    "import helper\n",
    "import numpy as np\n",
    "\n",
    "# Explore the dataset\n",
    "batch_id = 1\n",
    "sample_id = 5\n",
    "helper.display_stats(cifar10_dataset_folder_path, batch_id, sample_id)"
   ]
  },
  {
   "cell_type": "markdown",
   "metadata": {
    "deletable": true,
    "editable": true
   },
   "source": [
    "## Implement Preprocess Functions\n",
    "### Normalize\n",
    "In the cell below, implement the `normalize` function to take in image data, `x`, and return it as a normalized Numpy array. The values should be in the range of 0 to 1, inclusive.  The return object should be the same shape as `x`."
   ]
  },
  {
   "cell_type": "code",
   "execution_count": 3,
   "metadata": {
    "collapsed": false,
    "deletable": true,
    "editable": true
   },
   "outputs": [
    {
     "name": "stdout",
     "output_type": "stream",
     "text": [
      "Tests Passed\n"
     ]
    }
   ],
   "source": [
    "def normalize(x):\n",
    "    \"\"\"\n",
    "    Normalize a list of sample image data in the range of 0 to 1\n",
    "    : x: List of image data.  The image shape is (32, 32, 3)\n",
    "    : return: Numpy array of normalize data\n",
    "    \"\"\"\n",
    "    # TODO: Implement Function\n",
    "    return (x-np.min(x))/(np.max(x)-np.min(x))\n",
    "\n",
    "\n",
    "\"\"\"\n",
    "DON'T MODIFY ANYTHING IN THIS CELL THAT IS BELOW THIS LINE\n",
    "\"\"\"\n",
    "tests.test_normalize(normalize)"
   ]
  },
  {
   "cell_type": "markdown",
   "metadata": {
    "deletable": true,
    "editable": true
   },
   "source": [
    "### One-hot encode\n",
    "Just like the previous code cell, you'll be implementing a function for preprocessing.  This time, you'll implement the `one_hot_encode` function. The input, `x`, are a list of labels.  Implement the function to return the list of labels as One-Hot encoded Numpy array.  The possible values for labels are 0 to 9. The one-hot encoding function should return the same encoding for each value between each call to `one_hot_encode`.  Make sure to save the map of encodings outside the function.\n",
    "\n",
    "Hint: Don't reinvent the wheel."
   ]
  },
  {
   "cell_type": "code",
   "execution_count": 5,
   "metadata": {
    "collapsed": false,
    "deletable": true,
    "editable": true
   },
   "outputs": [
    {
     "name": "stdout",
     "output_type": "stream",
     "text": [
      "Tests Passed\n"
     ]
    }
   ],
   "source": [
    "from sklearn.preprocessing import LabelBinarizer\n",
    "lb = LabelBinarizer()\n",
    "lb.fit(list(range(10)))\n",
    "def one_hot_encode(x):\n",
    "    \"\"\"\n",
    "    One hot encode a list of sample labels. Return a one-hot encoded vector for each label.\n",
    "    : x: List of sample Labels\n",
    "    : return: Numpy array of one-hot encoded labels\n",
    "    \"\"\"\n",
    "    return lb.transform(x)\n",
    "\n",
    "\n",
    "\"\"\"\n",
    "DON'T MODIFY ANYTHING IN THIS CELL THAT IS BELOW THIS LINE\n",
    "\"\"\"\n",
    "tests.test_one_hot_encode(one_hot_encode)"
   ]
  },
  {
   "cell_type": "markdown",
   "metadata": {
    "deletable": true,
    "editable": true
   },
   "source": [
    "### Randomize Data\n",
    "As you saw from exploring the data above, the order of the samples are randomized.  It doesn't hurt to randomize it again, but you don't need to for this dataset."
   ]
  },
  {
   "cell_type": "markdown",
   "metadata": {
    "deletable": true,
    "editable": true
   },
   "source": [
    "## Preprocess all the data and save it\n",
    "Running the code cell below will preprocess all the CIFAR-10 data and save it to file. The code below also uses 10% of the training data for validation."
   ]
  },
  {
   "cell_type": "code",
   "execution_count": 6,
   "metadata": {
    "collapsed": false,
    "deletable": true,
    "editable": true
   },
   "outputs": [],
   "source": [
    "\"\"\"\n",
    "DON'T MODIFY ANYTHING IN THIS CELL\n",
    "\"\"\"\n",
    "# Preprocess Training, Validation, and Testing Data\n",
    "helper.preprocess_and_save_data(cifar10_dataset_folder_path, normalize, one_hot_encode)"
   ]
  },
  {
   "cell_type": "markdown",
   "metadata": {
    "deletable": true,
    "editable": true
   },
   "source": [
    "# Check Point\n",
    "This is your first checkpoint.  If you ever decide to come back to this notebook or have to restart the notebook, you can start from here.  The preprocessed data has been saved to disk."
   ]
  },
  {
   "cell_type": "code",
   "execution_count": 7,
   "metadata": {
    "collapsed": true,
    "deletable": true,
    "editable": true
   },
   "outputs": [],
   "source": [
    "\"\"\"\n",
    "DON'T MODIFY ANYTHING IN THIS CELL\n",
    "\"\"\"\n",
    "import pickle\n",
    "import problem_unittests as tests\n",
    "import helper\n",
    "\n",
    "# Load the Preprocessed Validation data\n",
    "valid_features, valid_labels = pickle.load(open('preprocess_validation.p', mode='rb'))"
   ]
  },
  {
   "cell_type": "markdown",
   "metadata": {
    "deletable": true,
    "editable": true
   },
   "source": [
    "## Build the network\n",
    "For the neural network, you'll build each layer into a function.  Most of the code you've seen has been outside of functions. To test your code more thoroughly, we require that you put each layer in a function.  This allows us to give you better feedback and test for simple mistakes using our unittests before you submit your project.\n",
    "\n",
    ">**Note:** If you're finding it hard to dedicate enough time for this course each week, we've provided a small shortcut to this part of the project. In the next couple of problems, you'll have the option to use classes from the [TensorFlow Layers](https://www.tensorflow.org/api_docs/python/tf/layers) or [TensorFlow Layers (contrib)](https://www.tensorflow.org/api_guides/python/contrib.layers) packages to build each layer, except the layers you build in the \"Convolutional and Max Pooling Layer\" section.  TF Layers is similar to Keras's and TFLearn's abstraction to layers, so it's easy to pickup.\n",
    "\n",
    ">However, if you would like to get the most out of this course, try to solve all the problems _without_ using anything from the TF Layers packages. You **can** still use classes from other packages that happen to have the same name as ones you find in TF Layers! For example, instead of using the TF Layers version of the `conv2d` class, [tf.layers.conv2d](https://www.tensorflow.org/api_docs/python/tf/layers/conv2d), you would want to use the TF Neural Network version of `conv2d`, [tf.nn.conv2d](https://www.tensorflow.org/api_docs/python/tf/nn/conv2d). \n",
    "\n",
    "Let's begin!\n",
    "\n",
    "### Input\n",
    "The neural network needs to read the image data, one-hot encoded labels, and dropout keep probability. Implement the following functions\n",
    "* Implement `neural_net_image_input`\n",
    " * Return a [TF Placeholder](https://www.tensorflow.org/api_docs/python/tf/placeholder)\n",
    " * Set the shape using `image_shape` with batch size set to `None`.\n",
    " * Name the TensorFlow placeholder \"x\" using the TensorFlow `name` parameter in the [TF Placeholder](https://www.tensorflow.org/api_docs/python/tf/placeholder).\n",
    "* Implement `neural_net_label_input`\n",
    " * Return a [TF Placeholder](https://www.tensorflow.org/api_docs/python/tf/placeholder)\n",
    " * Set the shape using `n_classes` with batch size set to `None`.\n",
    " * Name the TensorFlow placeholder \"y\" using the TensorFlow `name` parameter in the [TF Placeholder](https://www.tensorflow.org/api_docs/python/tf/placeholder).\n",
    "* Implement `neural_net_keep_prob_input`\n",
    " * Return a [TF Placeholder](https://www.tensorflow.org/api_docs/python/tf/placeholder) for dropout keep probability.\n",
    " * Name the TensorFlow placeholder \"keep_prob\" using the TensorFlow `name` parameter in the [TF Placeholder](https://www.tensorflow.org/api_docs/python/tf/placeholder).\n",
    "\n",
    "These names will be used at the end of the project to load your saved model.\n",
    "\n",
    "Note: `None` for shapes in TensorFlow allow for a dynamic size."
   ]
  },
  {
   "cell_type": "code",
   "execution_count": 8,
   "metadata": {
    "collapsed": false,
    "deletable": true,
    "editable": true
   },
   "outputs": [
    {
     "name": "stdout",
     "output_type": "stream",
     "text": [
      "Image Input Tests Passed.\n",
      "Label Input Tests Passed.\n",
      "Keep Prob Tests Passed.\n"
     ]
    }
   ],
   "source": [
    "import tensorflow as tf\n",
    "\n",
    "def neural_net_image_input(image_shape):\n",
    "    \"\"\"\n",
    "    Return a Tensor for a batch of image input\n",
    "    : image_shape: Shape of the images\n",
    "    : return: Tensor for image input.\n",
    "    \"\"\"\n",
    "    return tf.placeholder(tf.float32,shape=(None,*image_shape),name='x')\n",
    "\n",
    "\n",
    "def neural_net_label_input(n_classes):\n",
    "    \"\"\"\n",
    "    Return a Tensor for a batch of label input\n",
    "    : n_classes: Number of classes\n",
    "    : return: Tensor for label input.\n",
    "    \"\"\"\n",
    "    return tf.placeholder(tf.float32,shape=(None,n_classes),name='y')\n",
    "\n",
    "\n",
    "\n",
    "def neural_net_keep_prob_input():\n",
    "    \"\"\"\n",
    "    Return a Tensor for keep probability\n",
    "    : return: Tensor for keep probability.\n",
    "    \"\"\"\n",
    "    return tf.placeholder(tf.float32,name='keep_prob')\n",
    "\n",
    "\n",
    "\"\"\"\n",
    "DON'T MODIFY ANYTHING IN THIS CELL THAT IS BELOW THIS LINE\n",
    "\"\"\"\n",
    "tf.reset_default_graph()\n",
    "tests.test_nn_image_inputs(neural_net_image_input)\n",
    "tests.test_nn_label_inputs(neural_net_label_input)\n",
    "tests.test_nn_keep_prob_inputs(neural_net_keep_prob_input)"
   ]
  },
  {
   "cell_type": "markdown",
   "metadata": {
    "deletable": true,
    "editable": true
   },
   "source": [
    "### Convolution and Max Pooling Layer\n",
    "Convolution layers have a lot of success with images. For this code cell, you should implement the function `conv2d_maxpool` to apply convolution then max pooling:\n",
    "* Create the weight and bias using `conv_ksize`, `conv_num_outputs` and the shape of `x_tensor`.\n",
    "* Apply a convolution to `x_tensor` using weight and `conv_strides`.\n",
    " * We recommend you use same padding, but you're welcome to use any padding.\n",
    "* Add bias\n",
    "* Add a nonlinear activation to the convolution.\n",
    "* Apply Max Pooling using `pool_ksize` and `pool_strides`.\n",
    " * We recommend you use same padding, but you're welcome to use any padding.\n",
    "\n",
    "**Note:** You **can't** use [TensorFlow Layers](https://www.tensorflow.org/api_docs/python/tf/layers) or [TensorFlow Layers (contrib)](https://www.tensorflow.org/api_guides/python/contrib.layers) for **this** layer, but you can still use TensorFlow's [Neural Network](https://www.tensorflow.org/api_docs/python/tf/nn) package. You may still use the shortcut option for all the **other** layers."
   ]
  },
  {
   "cell_type": "code",
   "execution_count": 9,
   "metadata": {
    "collapsed": false,
    "deletable": true,
    "editable": true
   },
   "outputs": [
    {
     "name": "stdout",
     "output_type": "stream",
     "text": [
      "Tests Passed\n"
     ]
    }
   ],
   "source": [
    "def conv2d_maxpool(x_tensor, conv_num_outputs, conv_ksize, conv_strides, pool_ksize, pool_strides):\n",
    "    \"\"\"\n",
    "    Apply convolution then max pooling to x_tensor\n",
    "    :param x_tensor: TensorFlow Tensor\n",
    "    :param conv_num_outputs: Number of outputs for the convolutional layer\n",
    "    :param conv_ksize: kernal size 2-D Tuple for the convolutional layer\n",
    "    :param conv_strides: Stride 2-D Tuple for convolution\n",
    "    :param pool_ksize: kernal size 2-D Tuple for pool\n",
    "    :param pool_strides: Stride 2-D Tuple for pool\n",
    "    : return: A tensor that represents convolution and max pooling of x_tensor\n",
    "    \"\"\"\n",
    "    weight = tf.Variable(tf.truncated_normal([*conv_ksize, x_tensor.get_shape().as_list()[3], conv_num_outputs], stddev = 1.0/np.sqrt(np.prod(x_tensor.get_shape().as_list()[1:3]))))\n",
    "    bias = tf.Variable(tf.zeros([conv_num_outputs]))\n",
    "    \n",
    "    conv_layer = tf.nn.conv2d(x_tensor,weight,strides=[1,*conv_strides,1], padding='SAME', use_cudnn_on_gpu=True)\n",
    "    conv_layer = tf.nn.bias_add(conv_layer, bias)\n",
    "    conv_layer = tf.nn.relu(conv_layer)\n",
    "    conv_layer = tf.nn.max_pool(conv_layer, ksize=[1, *pool_ksize, 1], strides=[1, *pool_strides, 1], padding='SAME')\n",
    "    return conv_layer\n",
    "\n",
    "\n",
    "\"\"\"\n",
    "DON'T MODIFY ANYTHING IN THIS CELL THAT IS BELOW THIS LINE\n",
    "\"\"\"\n",
    "tests.test_con_pool(conv2d_maxpool)"
   ]
  },
  {
   "cell_type": "markdown",
   "metadata": {
    "deletable": true,
    "editable": true
   },
   "source": [
    "### Flatten Layer\n",
    "Implement the `flatten` function to change the dimension of `x_tensor` from a 4-D tensor to a 2-D tensor.  The output should be the shape (*Batch Size*, *Flattened Image Size*). Shortcut option: you can use classes from the [TensorFlow Layers](https://www.tensorflow.org/api_docs/python/tf/layers) or [TensorFlow Layers (contrib)](https://www.tensorflow.org/api_guides/python/contrib.layers) packages for this layer. For more of a challenge, only use other TensorFlow packages."
   ]
  },
  {
   "cell_type": "code",
   "execution_count": 10,
   "metadata": {
    "collapsed": false,
    "deletable": true,
    "editable": true
   },
   "outputs": [
    {
     "name": "stdout",
     "output_type": "stream",
     "text": [
      "Tests Passed\n"
     ]
    }
   ],
   "source": [
    "def flatten(x_tensor):\n",
    "    \"\"\"\n",
    "    Flatten x_tensor to (Batch Size, Flattened Image Size)\n",
    "    : x_tensor: A tensor of size (Batch Size, ...), where ... are the image dimensions.\n",
    "    : return: A tensor of size (Batch Size, Flattened Image Size).\n",
    "    \"\"\"\n",
    "    shape = x_tensor.get_shape().as_list()\n",
    "    dim = np.prod(shape[1:])\n",
    "    return tf.reshape(x_tensor, [-1, dim])      \n",
    "\n",
    "\n",
    "\"\"\"\n",
    "DON'T MODIFY ANYTHING IN THIS CELL THAT IS BELOW THIS LINE\n",
    "\"\"\"\n",
    "tests.test_flatten(flatten)"
   ]
  },
  {
   "cell_type": "markdown",
   "metadata": {
    "deletable": true,
    "editable": true
   },
   "source": [
    "### Fully-Connected Layer\n",
    "Implement the `fully_conn` function to apply a fully connected layer to `x_tensor` with the shape (*Batch Size*, *num_outputs*). Shortcut option: you can use classes from the [TensorFlow Layers](https://www.tensorflow.org/api_docs/python/tf/layers) or [TensorFlow Layers (contrib)](https://www.tensorflow.org/api_guides/python/contrib.layers) packages for this layer. For more of a challenge, only use other TensorFlow packages."
   ]
  },
  {
   "cell_type": "code",
   "execution_count": 11,
   "metadata": {
    "collapsed": false,
    "deletable": true,
    "editable": true
   },
   "outputs": [
    {
     "name": "stdout",
     "output_type": "stream",
     "text": [
      "Tests Passed\n"
     ]
    }
   ],
   "source": [
    "def fully_conn(x_tensor, num_outputs):\n",
    "    \"\"\"\n",
    "    Apply a fully connected layer to x_tensor using weight and bias\n",
    "    : x_tensor: A 2-D tensor where the first dimension is batch size.\n",
    "    : num_outputs: The number of output that the new tensor should be.\n",
    "    : return: A 2-D tensor where the second dimension is num_outputs.\n",
    "    \"\"\"\n",
    "    weight = tf.Variable(tf.truncated_normal([x_tensor.get_shape().as_list()[1], num_outputs], stddev = 1.0/np.sqrt(x_tensor.get_shape().as_list()[1])))\n",
    "    bias = tf.Variable(tf.zeros([num_outputs]))\n",
    "    layer = tf.add(tf.matmul(x_tensor,weight),bias)\n",
    "    return tf.nn.relu(layer)\n",
    "\n",
    "\n",
    "\"\"\"\n",
    "DON'T MODIFY ANYTHING IN THIS CELL THAT IS BELOW THIS LINE\n",
    "\"\"\"\n",
    "tests.test_fully_conn(fully_conn)"
   ]
  },
  {
   "cell_type": "markdown",
   "metadata": {
    "deletable": true,
    "editable": true
   },
   "source": [
    "### Output Layer\n",
    "Implement the `output` function to apply a fully connected layer to `x_tensor` with the shape (*Batch Size*, *num_outputs*). Shortcut option: you can use classes from the [TensorFlow Layers](https://www.tensorflow.org/api_docs/python/tf/layers) or [TensorFlow Layers (contrib)](https://www.tensorflow.org/api_guides/python/contrib.layers) packages for this layer. For more of a challenge, only use other TensorFlow packages.\n",
    "\n",
    "**Note:** Activation, softmax, or cross entropy should **not** be applied to this."
   ]
  },
  {
   "cell_type": "code",
   "execution_count": 12,
   "metadata": {
    "collapsed": false,
    "deletable": true,
    "editable": true
   },
   "outputs": [
    {
     "name": "stdout",
     "output_type": "stream",
     "text": [
      "Tests Passed\n"
     ]
    }
   ],
   "source": [
    "def output(x_tensor, num_outputs):\n",
    "    \"\"\"\n",
    "    Apply a output layer to x_tensor using weight and bias\n",
    "    : x_tensor: A 2-D tensor where the first dimension is batch size.\n",
    "    : num_outputs: The number of output that the new tensor should be.\n",
    "    : return: A 2-D tensor where the second dimension is num_outputs.\n",
    "    \"\"\"\n",
    "    weight = tf.Variable(tf.truncated_normal([x_tensor.get_shape().as_list()[1], num_outputs],stddev=1.0/np.sqrt(x_tensor.get_shape().as_list()[1])))\n",
    "    bias = tf.Variable(tf.zeros([num_outputs]))\n",
    "    return tf.add(tf.matmul(x_tensor,weight),bias)\n",
    "\n",
    "\n",
    "\"\"\"\n",
    "DON'T MODIFY ANYTHING IN THIS CELL THAT IS BELOW THIS LINE\n",
    "\"\"\"\n",
    "tests.test_output(output)"
   ]
  },
  {
   "cell_type": "markdown",
   "metadata": {
    "deletable": true,
    "editable": true
   },
   "source": [
    "### Create Convolutional Model\n",
    "Implement the function `conv_net` to create a convolutional neural network model. The function takes in a batch of images, `x`, and outputs logits.  Use the layers you created above to create this model:\n",
    "\n",
    "* Apply 1, 2, or 3 Convolution and Max Pool layers\n",
    "* Apply a Flatten Layer\n",
    "* Apply 1, 2, or 3 Fully Connected Layers\n",
    "* Apply an Output Layer\n",
    "* Return the output\n",
    "* Apply [TensorFlow's Dropout](https://www.tensorflow.org/api_docs/python/tf/nn/dropout) to one or more layers in the model using `keep_prob`. "
   ]
  },
  {
   "cell_type": "code",
   "execution_count": 13,
   "metadata": {
    "collapsed": false,
    "deletable": true,
    "editable": true
   },
   "outputs": [
    {
     "name": "stdout",
     "output_type": "stream",
     "text": [
      "Neural Network Built!\n"
     ]
    }
   ],
   "source": [
    "def conv_net(x, keep_prob):\n",
    "    \"\"\"\n",
    "    Create a convolutional neural network model\n",
    "    : x: Placeholder tensor that holds image data.\n",
    "    : keep_prob: Placeholder tensor that hold dropout keep probability.\n",
    "    : return: Tensor that represents logits\n",
    "    \"\"\"\n",
    "    # TODO: Apply 1, 2, or 3 Convolution and Max Pool layers\n",
    "    #    Play around with different number of outputs, kernel size and stride\n",
    "    # Function Definition from Above:\n",
    "    #    conv2d_maxpool(x_tensor, conv_num_outputs, conv_ksize, conv_strides, pool_ksize, pool_strides)\n",
    "    conv_layer = conv2d_maxpool(x, 32, (2,2), (1,1), (2,2), (1,1))\n",
    "    conv_layer = tf.nn.dropout(conv_layer, keep_prob)\n",
    "    \n",
    "    conv_layer = conv2d_maxpool(conv_layer, 64, (4,4), (1,1), (2,2), (2,2))\n",
    "    conv_layer = tf.nn.dropout(conv_layer, keep_prob)\n",
    "    \n",
    "    conv_layer = conv2d_maxpool(conv_layer, 128, (4,4), (2,2), (4,4), (2,2))\n",
    "    conv_layer = tf.nn.dropout(conv_layer, keep_prob)\n",
    "    # TODO: Apply a Flatten Layer\n",
    "    # Function Definition from Above:\n",
    "    #   flatten(x_tensor)\n",
    "    flat_layer = flatten(conv_layer)\n",
    "    \n",
    "\n",
    "    # TODO: Apply 1, 2, or 3 Fully Connected Layers\n",
    "    #    Play around with different number of outputs\n",
    "    # Function Definition from Above:\n",
    "    #   fully_conn(x_tensor, num_outputs)\n",
    "    \n",
    "    conn_layer = fully_conn(flat_layer, 10)\n",
    "    conn_layer = fully_conn(conn_layer, 10)\n",
    "    # TODO: Apply an Output Layer\n",
    "    #    Set this to the number of classes\n",
    "    # Function Definition from Above:\n",
    "    #   output(x_tensor, num_outputs)\n",
    "    \n",
    "    re = output(conn_layer,10)\n",
    "    # TODO: return output\n",
    "    return re\n",
    "\n",
    "\n",
    "\"\"\"\n",
    "DON'T MODIFY ANYTHING IN THIS CELL THAT IS BELOW THIS LINE\n",
    "\"\"\"\n",
    "\n",
    "##############################\n",
    "## Build the Neural Network ##\n",
    "##############################\n",
    "\n",
    "# Remove previous weights, bias, inputs, etc..\n",
    "tf.reset_default_graph()\n",
    "\n",
    "# Inputs\n",
    "x = neural_net_image_input((32, 32, 3))\n",
    "y = neural_net_label_input(10)\n",
    "keep_prob = neural_net_keep_prob_input()\n",
    "\n",
    "# Model\n",
    "logits = conv_net(x, keep_prob)\n",
    "\n",
    "# Name logits Tensor, so that is can be loaded from disk after training\n",
    "logits = tf.identity(logits, name='logits')\n",
    "\n",
    "# Loss and Optimizer\n",
    "cost = tf.reduce_mean(tf.nn.softmax_cross_entropy_with_logits(logits=logits, labels=y))\n",
    "optimizer = tf.train.AdamOptimizer().minimize(cost)\n",
    "\n",
    "# Accuracy\n",
    "correct_pred = tf.equal(tf.argmax(logits, 1), tf.argmax(y, 1))\n",
    "accuracy = tf.reduce_mean(tf.cast(correct_pred, tf.float32), name='accuracy')\n",
    "\n",
    "tests.test_conv_net(conv_net)"
   ]
  },
  {
   "cell_type": "markdown",
   "metadata": {
    "deletable": true,
    "editable": true
   },
   "source": [
    "## Train the Neural Network\n",
    "### Single Optimization\n",
    "Implement the function `train_neural_network` to do a single optimization.  The optimization should use `optimizer` to optimize in `session` with a `feed_dict` of the following:\n",
    "* `x` for image input\n",
    "* `y` for labels\n",
    "* `keep_prob` for keep probability for dropout\n",
    "\n",
    "This function will be called for each batch, so `tf.global_variables_initializer()` has already been called.\n",
    "\n",
    "Note: Nothing needs to be returned. This function is only optimizing the neural network."
   ]
  },
  {
   "cell_type": "code",
   "execution_count": 14,
   "metadata": {
    "collapsed": false,
    "deletable": true,
    "editable": true
   },
   "outputs": [
    {
     "name": "stdout",
     "output_type": "stream",
     "text": [
      "Tests Passed\n"
     ]
    }
   ],
   "source": [
    "def train_neural_network(session, optimizer, keep_probability, feature_batch, label_batch):\n",
    "    \"\"\"\n",
    "    Optimize the session on a batch of images and labels\n",
    "    : session: Current TensorFlow session\n",
    "    : optimizer: TensorFlow optimizer function\n",
    "    : keep_probability: keep probability\n",
    "    : feature_batch: Batch of Numpy image data\n",
    "    : label_batch: Batch of Numpy label data\n",
    "    \"\"\"\n",
    "    session.run(optimizer, feed_dict = {x:feature_batch, y:label_batch, keep_prob:keep_probability })\n",
    "\n",
    "\n",
    "\"\"\"\n",
    "DON'T MODIFY ANYTHING IN THIS CELL THAT IS BELOW THIS LINE\n",
    "\"\"\"\n",
    "tests.test_train_nn(train_neural_network)"
   ]
  },
  {
   "cell_type": "markdown",
   "metadata": {
    "deletable": true,
    "editable": true
   },
   "source": [
    "### Show Stats\n",
    "Implement the function `print_stats` to print loss and validation accuracy.  Use the global variables `valid_features` and `valid_labels` to calculate validation accuracy.  Use a keep probability of `1.0` to calculate the loss and validation accuracy."
   ]
  },
  {
   "cell_type": "code",
   "execution_count": 15,
   "metadata": {
    "collapsed": false,
    "deletable": true,
    "editable": true
   },
   "outputs": [],
   "source": [
    "def print_stats(session, feature_batch, label_batch, cost, accuracy):\n",
    "    \"\"\"\n",
    "    Print information about loss and validation accuracy\n",
    "    : session: Current TensorFlow session\n",
    "    : feature_batch: Batch of Numpy image data\n",
    "    : label_batch: Batch of Numpy label data\n",
    "    : cost: TensorFlow cost function\n",
    "    : accuracy: TensorFlow accuracy function\n",
    "    \"\"\"\n",
    "    loss = session.run(cost, feed_dict = {x: feature_batch,\n",
    "                                          y: label_batch,\n",
    "                                          keep_prob: 1.0})\n",
    "    acc = session.run(accuracy, feed_dict = {x: valid_features,\n",
    "                                             y: valid_labels,\n",
    "                                             keep_prob: 1.0})\n",
    "    print('Loss: {:>10.2f}, Accuracy: {:.6f}'.format(loss, acc))\n",
    "    "
   ]
  },
  {
   "cell_type": "markdown",
   "metadata": {
    "deletable": true,
    "editable": true
   },
   "source": [
    "### Hyperparameters\n",
    "Tune the following parameters:\n",
    "* Set `epochs` to the number of iterations until the network stops learning or start overfitting\n",
    "* Set `batch_size` to the highest number that your machine has memory for.  Most people set them to common sizes of memory:\n",
    " * 64\n",
    " * 128\n",
    " * 256\n",
    " * ...\n",
    "* Set `keep_probability` to the probability of keeping a node using dropout"
   ]
  },
  {
   "cell_type": "code",
   "execution_count": 16,
   "metadata": {
    "collapsed": true,
    "deletable": true,
    "editable": true
   },
   "outputs": [],
   "source": [
    "# TODO: Tune Parameters\n",
    "epochs = 100\n",
    "batch_size = 512\n",
    "keep_probability = 0.5"
   ]
  },
  {
   "cell_type": "markdown",
   "metadata": {
    "deletable": true,
    "editable": true
   },
   "source": [
    "### Train on a Single CIFAR-10 Batch\n",
    "Instead of training the neural network on all the CIFAR-10 batches of data, let's use a single batch. This should save time while you iterate on the model to get a better accuracy.  Once the final validation accuracy is 50% or greater, run the model on all the data in the next section."
   ]
  },
  {
   "cell_type": "code",
   "execution_count": null,
   "metadata": {
    "collapsed": false,
    "deletable": true,
    "editable": true
   },
   "outputs": [
    {
     "name": "stdout",
     "output_type": "stream",
     "text": [
      "Checking the Training on a Single Batch...\n",
      "Epoch  1, CIFAR-10 Batch 1:  Loss:       2.30, Accuracy: 0.139600\n",
      "Epoch  2, CIFAR-10 Batch 1:  Loss:       2.25, Accuracy: 0.139000\n",
      "Epoch  3, CIFAR-10 Batch 1:  Loss:       2.20, Accuracy: 0.165600\n",
      "Epoch  4, CIFAR-10 Batch 1:  Loss:       2.14, Accuracy: 0.194200\n",
      "Epoch  5, CIFAR-10 Batch 1:  Loss:       2.10, Accuracy: 0.210000\n",
      "Epoch  6, CIFAR-10 Batch 1:  Loss:       2.07, Accuracy: 0.212400\n",
      "Epoch  7, CIFAR-10 Batch 1:  Loss:       2.05, Accuracy: 0.213800\n",
      "Epoch  8, CIFAR-10 Batch 1:  Loss:       2.02, Accuracy: 0.269800\n",
      "Epoch  9, CIFAR-10 Batch 1:  Loss:       1.97, Accuracy: 0.266400\n",
      "Epoch 10, CIFAR-10 Batch 1:  Loss:       1.95, Accuracy: 0.291800\n",
      "Epoch 11, CIFAR-10 Batch 1:  Loss:       1.90, Accuracy: 0.306800\n",
      "Epoch 12, CIFAR-10 Batch 1:  Loss:       1.91, Accuracy: 0.311600\n",
      "Epoch 13, CIFAR-10 Batch 1:  Loss:       1.84, Accuracy: 0.324800\n",
      "Epoch 14, CIFAR-10 Batch 1:  Loss:       1.83, Accuracy: 0.336800\n",
      "Epoch 15, CIFAR-10 Batch 1:  Loss:       1.77, Accuracy: 0.350200\n",
      "Epoch 16, CIFAR-10 Batch 1:  Loss:       1.74, Accuracy: 0.365400\n",
      "Epoch 17, CIFAR-10 Batch 1:  Loss:       1.71, Accuracy: 0.372400\n",
      "Epoch 18, CIFAR-10 Batch 1:  Loss:       1.69, Accuracy: 0.384800\n",
      "Epoch 19, CIFAR-10 Batch 1:  Loss:       1.66, Accuracy: 0.393200\n",
      "Epoch 20, CIFAR-10 Batch 1:  Loss:       1.64, Accuracy: 0.403000\n",
      "Epoch 21, CIFAR-10 Batch 1:  Loss:       1.62, Accuracy: 0.413600\n",
      "Epoch 22, CIFAR-10 Batch 1:  Loss:       1.59, Accuracy: 0.414600\n",
      "Epoch 23, CIFAR-10 Batch 1:  Loss:       1.59, Accuracy: 0.420800\n",
      "Epoch 24, CIFAR-10 Batch 1:  Loss:       1.56, Accuracy: 0.433800\n",
      "Epoch 25, CIFAR-10 Batch 1:  Loss:       1.54, Accuracy: 0.437200\n",
      "Epoch 26, CIFAR-10 Batch 1:  Loss:       1.51, Accuracy: 0.442800\n",
      "Epoch 27, CIFAR-10 Batch 1:  Loss:       1.51, Accuracy: 0.457400\n",
      "Epoch 28, CIFAR-10 Batch 1:  Loss:       1.46, Accuracy: 0.462000\n",
      "Epoch 29, CIFAR-10 Batch 1:  Loss:       1.46, Accuracy: 0.472000\n",
      "Epoch 30, CIFAR-10 Batch 1:  Loss:       1.44, Accuracy: 0.470800\n",
      "Epoch 31, CIFAR-10 Batch 1:  Loss:       1.42, Accuracy: 0.482200\n",
      "Epoch 32, CIFAR-10 Batch 1:  Loss:       1.42, Accuracy: 0.481600\n",
      "Epoch 33, CIFAR-10 Batch 1:  Loss:       1.39, Accuracy: 0.476800\n",
      "Epoch 34, CIFAR-10 Batch 1:  Loss:       1.37, Accuracy: 0.482000\n",
      "Epoch 35, CIFAR-10 Batch 1:  Loss:       1.37, Accuracy: 0.490600\n",
      "Epoch 36, CIFAR-10 Batch 1:  Loss:       1.34, Accuracy: 0.494800\n",
      "Epoch 37, CIFAR-10 Batch 1:  Loss:       1.33, Accuracy: 0.501800\n",
      "Epoch 38, CIFAR-10 Batch 1:  Loss:       1.33, Accuracy: 0.507600\n",
      "Epoch 39, CIFAR-10 Batch 1:  Loss:       1.31, Accuracy: 0.504200\n",
      "Epoch 40, CIFAR-10 Batch 1:  Loss:       1.31, Accuracy: 0.504400\n",
      "Epoch 41, CIFAR-10 Batch 1:  Loss:       1.29, Accuracy: 0.492600\n",
      "Epoch 42, CIFAR-10 Batch 1:  Loss:       1.29, Accuracy: 0.504000\n",
      "Epoch 43, CIFAR-10 Batch 1:  Loss:       1.27, Accuracy: 0.512200\n",
      "Epoch 44, CIFAR-10 Batch 1:  Loss:       1.27, Accuracy: 0.511000\n",
      "Epoch 45, CIFAR-10 Batch 1:  Loss:       1.25, Accuracy: 0.516000\n",
      "Epoch 46, CIFAR-10 Batch 1:  Loss:       1.26, Accuracy: 0.509800\n",
      "Epoch 47, CIFAR-10 Batch 1:  Loss:       1.24, Accuracy: 0.514400\n",
      "Epoch 48, CIFAR-10 Batch 1:  Loss:       1.24, Accuracy: 0.506800\n",
      "Epoch 49, CIFAR-10 Batch 1:  Loss:       1.24, Accuracy: 0.516600\n",
      "Epoch 50, CIFAR-10 Batch 1:  Loss:       1.22, Accuracy: 0.509400\n",
      "Epoch 51, CIFAR-10 Batch 1:  Loss:       1.21, Accuracy: 0.534800\n",
      "Epoch 52, CIFAR-10 Batch 1:  Loss:       1.19, Accuracy: 0.535200\n",
      "Epoch 53, CIFAR-10 Batch 1:  Loss:       1.18, Accuracy: 0.526000\n",
      "Epoch 54, CIFAR-10 Batch 1:  Loss:       1.19, Accuracy: 0.522600\n",
      "Epoch 55, CIFAR-10 Batch 1:  Loss:       1.18, Accuracy: 0.533400\n",
      "Epoch 56, CIFAR-10 Batch 1:  Loss:       1.16, Accuracy: 0.537800\n",
      "Epoch 57, CIFAR-10 Batch 1:  Loss:       1.16, Accuracy: 0.525600\n",
      "Epoch 58, CIFAR-10 Batch 1:  Loss:       1.17, Accuracy: 0.534200\n",
      "Epoch 59, CIFAR-10 Batch 1:  Loss:       1.14, Accuracy: 0.533200\n",
      "Epoch 60, CIFAR-10 Batch 1:  Loss:       1.14, Accuracy: 0.538200\n",
      "Epoch 61, CIFAR-10 Batch 1:  Loss:       1.13, Accuracy: 0.541200\n",
      "Epoch 62, CIFAR-10 Batch 1:  Loss:       1.12, Accuracy: 0.544800\n",
      "Epoch 63, CIFAR-10 Batch 1:  Loss:       1.11, Accuracy: 0.536200\n",
      "Epoch 64, CIFAR-10 Batch 1:  Loss:       1.12, Accuracy: 0.537600\n",
      "Epoch 65, CIFAR-10 Batch 1:  Loss:       1.12, Accuracy: 0.543600\n",
      "Epoch 66, CIFAR-10 Batch 1:  Loss:       1.11, Accuracy: 0.544600\n",
      "Epoch 67, CIFAR-10 Batch 1:  Loss:       1.12, Accuracy: 0.533200\n",
      "Epoch 68, CIFAR-10 Batch 1:  Loss:       1.10, Accuracy: 0.548800\n",
      "Epoch 69, CIFAR-10 Batch 1:  Loss:       1.08, Accuracy: 0.544200\n",
      "Epoch 70, CIFAR-10 Batch 1:  Loss:       1.07, Accuracy: 0.551400\n",
      "Epoch 71, CIFAR-10 Batch 1:  Loss:       1.07, Accuracy: 0.554000\n",
      "Epoch 72, CIFAR-10 Batch 1:  Loss:       1.05, Accuracy: 0.549200\n",
      "Epoch 73, CIFAR-10 Batch 1:  Loss:       1.04, Accuracy: 0.563000\n",
      "Epoch 74, CIFAR-10 Batch 1:  Loss:       1.04, Accuracy: 0.557600\n",
      "Epoch 75, CIFAR-10 Batch 1:  Loss:       1.05, Accuracy: 0.558800\n",
      "Epoch 76, CIFAR-10 Batch 1:  Loss:       1.02, Accuracy: 0.562000\n",
      "Epoch 77, CIFAR-10 Batch 1:  Loss:       1.01, Accuracy: 0.558000\n",
      "Epoch 78, CIFAR-10 Batch 1:  Loss:       1.02, Accuracy: 0.567400\n",
      "Epoch 79, CIFAR-10 Batch 1:  Loss:       1.01, Accuracy: 0.566000\n",
      "Epoch 80, CIFAR-10 Batch 1:  Loss:       0.99, Accuracy: 0.571600\n",
      "Epoch 81, CIFAR-10 Batch 1:  Loss:       1.01, Accuracy: 0.576800\n",
      "Loss:       0.98, Accuracy: 0.574400\n",
      "Epoch 83, CIFAR-10 Batch 1:  Loss:       0.97, Accuracy: 0.577800\n",
      "Epoch 84, CIFAR-10 Batch 1:  Loss:       0.96, Accuracy: 0.577000\n",
      "Epoch 85, CIFAR-10 Batch 1:  Loss:       0.98, Accuracy: 0.573800\n",
      "Epoch 86, CIFAR-10 Batch 1:  Loss:       0.96, Accuracy: 0.570400\n",
      "Epoch 87, CIFAR-10 Batch 1:  Loss:       0.97, Accuracy: 0.574800\n",
      "Epoch 88, CIFAR-10 Batch 1:  Loss:       0.96, Accuracy: 0.570200\n",
      "Epoch 89, CIFAR-10 Batch 1:  Loss:       0.97, Accuracy: 0.568200\n",
      "Epoch 90, CIFAR-10 Batch 1:  Loss:       0.95, Accuracy: 0.568600\n",
      "Epoch 91, CIFAR-10 Batch 1:  Loss:       0.93, Accuracy: 0.584800\n",
      "Epoch 92, CIFAR-10 Batch 1:  Loss:       0.93, Accuracy: 0.585400\n",
      "Epoch 93, CIFAR-10 Batch 1:  Loss:       0.92, Accuracy: 0.591200\n",
      "Epoch 94, CIFAR-10 Batch 1:  Loss:       0.92, Accuracy: 0.584600\n",
      "Epoch 95, CIFAR-10 Batch 1:  Loss:       0.93, Accuracy: 0.580800\n",
      "Epoch 96, CIFAR-10 Batch 1:  Loss:       0.94, Accuracy: 0.570200\n",
      "Epoch 97, CIFAR-10 Batch 1:  Loss:       0.92, Accuracy: 0.579800\n",
      "Epoch 98, CIFAR-10 Batch 1:  Loss:       0.91, Accuracy: 0.583600\n",
      "Epoch 99, CIFAR-10 Batch 1:  Loss:       0.91, Accuracy: 0.578000\n",
      "Epoch 100, CIFAR-10 Batch 1:  Loss:       0.88, Accuracy: 0.596000\n"
     ]
    }
   ],
   "source": [
    "\"\"\"\n",
    "DON'T MODIFY ANYTHING IN THIS CELL\n",
    "\"\"\"\n",
    "print('Checking the Training on a Single Batch...')\n",
    "with tf.Session() as sess:\n",
    "    # Initializing the variables\n",
    "    sess.run(tf.global_variables_initializer())\n",
    "    \n",
    "    # Training cycle\n",
    "    for epoch in range(epochs):\n",
    "        batch_i = 1\n",
    "        for batch_features, batch_labels in helper.load_preprocess_training_batch(batch_i, batch_size):\n",
    "            train_neural_network(sess, optimizer, keep_probability, batch_features, batch_labels)\n",
    "        print('Epoch {:>2}, CIFAR-10 Batch {}:  '.format(epoch + 1, batch_i), end='')\n",
    "        print_stats(sess, batch_features, batch_labels, cost, accuracy)"
   ]
  },
  {
   "cell_type": "markdown",
   "metadata": {
    "deletable": true,
    "editable": true
   },
   "source": [
    "### Fully Train the Model\n",
    "Now that you got a good accuracy with a single CIFAR-10 batch, try it with all five batches."
   ]
  },
  {
   "cell_type": "code",
   "execution_count": 17,
   "metadata": {
    "collapsed": false,
    "deletable": true,
    "editable": true
   },
   "outputs": [
    {
     "name": "stdout",
     "output_type": "stream",
     "text": [
      "Training...\n",
      "Epoch  1, CIFAR-10 Batch 1:  Loss:       2.28, Accuracy: 0.136200\n",
      "Epoch  1, CIFAR-10 Batch 2:  Loss:       2.24, Accuracy: 0.139000\n",
      "Epoch  1, CIFAR-10 Batch 3:  Loss:       2.19, Accuracy: 0.153400\n",
      "Epoch  1, CIFAR-10 Batch 4:  Loss:       2.15, Accuracy: 0.169000\n",
      "Epoch  1, CIFAR-10 Batch 5:  Loss:       2.13, Accuracy: 0.200800\n",
      "Epoch  2, CIFAR-10 Batch 1:  Loss:       2.13, Accuracy: 0.211000\n",
      "Epoch  2, CIFAR-10 Batch 2:  Loss:       2.01, Accuracy: 0.253200\n",
      "Epoch  2, CIFAR-10 Batch 3:  Loss:       1.94, Accuracy: 0.244000\n",
      "Epoch  2, CIFAR-10 Batch 4:  Loss:       1.90, Accuracy: 0.272200\n",
      "Epoch  2, CIFAR-10 Batch 5:  Loss:       1.90, Accuracy: 0.263800\n",
      "Epoch  3, CIFAR-10 Batch 1:  Loss:       1.90, Accuracy: 0.290200\n",
      "Epoch  3, CIFAR-10 Batch 2:  Loss:       1.91, Accuracy: 0.277000\n",
      "Epoch  3, CIFAR-10 Batch 3:  Loss:       1.83, Accuracy: 0.268000\n",
      "Epoch  3, CIFAR-10 Batch 4:  Loss:       1.78, Accuracy: 0.304400\n",
      "Epoch  3, CIFAR-10 Batch 5:  Loss:       1.85, Accuracy: 0.278000\n",
      "Epoch  4, CIFAR-10 Batch 1:  Loss:       1.88, Accuracy: 0.301200\n",
      "Epoch  4, CIFAR-10 Batch 2:  Loss:       1.83, Accuracy: 0.330400\n",
      "Epoch  4, CIFAR-10 Batch 3:  Loss:       1.72, Accuracy: 0.332800\n",
      "Epoch  4, CIFAR-10 Batch 4:  Loss:       1.74, Accuracy: 0.343800\n",
      "Epoch  4, CIFAR-10 Batch 5:  Loss:       1.78, Accuracy: 0.323600\n",
      "Epoch  5, CIFAR-10 Batch 1:  Loss:       1.77, Accuracy: 0.358200\n",
      "Epoch  5, CIFAR-10 Batch 2:  Loss:       1.78, Accuracy: 0.353400\n",
      "Epoch  5, CIFAR-10 Batch 3:  Loss:       1.65, Accuracy: 0.371600\n",
      "Epoch  5, CIFAR-10 Batch 4:  Loss:       1.66, Accuracy: 0.380000\n",
      "Epoch  5, CIFAR-10 Batch 5:  Loss:       1.70, Accuracy: 0.390000\n",
      "Epoch  6, CIFAR-10 Batch 1:  Loss:       1.68, Accuracy: 0.395600\n",
      "Epoch  6, CIFAR-10 Batch 2:  Loss:       1.69, Accuracy: 0.400800\n",
      "Epoch  6, CIFAR-10 Batch 3:  Loss:       1.52, Accuracy: 0.392000\n",
      "Epoch  6, CIFAR-10 Batch 4:  Loss:       1.61, Accuracy: 0.383800\n",
      "Epoch  6, CIFAR-10 Batch 5:  Loss:       1.64, Accuracy: 0.400600\n",
      "Epoch  7, CIFAR-10 Batch 1:  Loss:       1.61, Accuracy: 0.415800\n",
      "Epoch  7, CIFAR-10 Batch 2:  Loss:       1.60, Accuracy: 0.416400\n",
      "Epoch  7, CIFAR-10 Batch 3:  Loss:       1.45, Accuracy: 0.406400\n",
      "Epoch  7, CIFAR-10 Batch 4:  Loss:       1.58, Accuracy: 0.402600\n",
      "Epoch  7, CIFAR-10 Batch 5:  Loss:       1.57, Accuracy: 0.423200\n",
      "Epoch  8, CIFAR-10 Batch 1:  Loss:       1.57, Accuracy: 0.435000\n",
      "Epoch  8, CIFAR-10 Batch 2:  Loss:       1.56, Accuracy: 0.432600\n",
      "Epoch  8, CIFAR-10 Batch 3:  Loss:       1.40, Accuracy: 0.436000\n",
      "Epoch  8, CIFAR-10 Batch 4:  Loss:       1.51, Accuracy: 0.433400\n",
      "Epoch  8, CIFAR-10 Batch 5:  Loss:       1.51, Accuracy: 0.440600\n",
      "Epoch  9, CIFAR-10 Batch 1:  Loss:       1.52, Accuracy: 0.434000\n",
      "Epoch  9, CIFAR-10 Batch 2:  Loss:       1.51, Accuracy: 0.459600\n",
      "Epoch  9, CIFAR-10 Batch 3:  Loss:       1.37, Accuracy: 0.447600\n",
      "Epoch  9, CIFAR-10 Batch 4:  Loss:       1.47, Accuracy: 0.446200\n",
      "Epoch  9, CIFAR-10 Batch 5:  Loss:       1.46, Accuracy: 0.461400\n",
      "Epoch 10, CIFAR-10 Batch 1:  Loss:       1.48, Accuracy: 0.459000\n",
      "Epoch 10, CIFAR-10 Batch 2:  Loss:       1.46, Accuracy: 0.475200\n",
      "Epoch 10, CIFAR-10 Batch 3:  Loss:       1.33, Accuracy: 0.468600\n",
      "Epoch 10, CIFAR-10 Batch 4:  Loss:       1.43, Accuracy: 0.466000\n",
      "Epoch 10, CIFAR-10 Batch 5:  Loss:       1.46, Accuracy: 0.458200\n",
      "Epoch 11, CIFAR-10 Batch 1:  Loss:       1.42, Accuracy: 0.489400\n",
      "Epoch 11, CIFAR-10 Batch 2:  Loss:       1.42, Accuracy: 0.480000\n",
      "Epoch 11, CIFAR-10 Batch 3:  Loss:       1.30, Accuracy: 0.485600\n",
      "Epoch 11, CIFAR-10 Batch 4:  Loss:       1.36, Accuracy: 0.487000\n",
      "Epoch 11, CIFAR-10 Batch 5:  Loss:       1.38, Accuracy: 0.496400\n",
      "Epoch 12, CIFAR-10 Batch 1:  Loss:       1.39, Accuracy: 0.498600\n",
      "Epoch 12, CIFAR-10 Batch 2:  Loss:       1.38, Accuracy: 0.501800\n",
      "Epoch 12, CIFAR-10 Batch 3:  Loss:       1.29, Accuracy: 0.494400\n",
      "Epoch 12, CIFAR-10 Batch 4:  Loss:       1.33, Accuracy: 0.497000\n",
      "Epoch 12, CIFAR-10 Batch 5:  Loss:       1.33, Accuracy: 0.517600\n",
      "Epoch 13, CIFAR-10 Batch 1:  Loss:       1.35, Accuracy: 0.515600\n",
      "Epoch 13, CIFAR-10 Batch 2:  Loss:       1.33, Accuracy: 0.525400\n",
      "Epoch 13, CIFAR-10 Batch 3:  Loss:       1.23, Accuracy: 0.520200\n",
      "Epoch 13, CIFAR-10 Batch 4:  Loss:       1.27, Accuracy: 0.513800\n",
      "Epoch 13, CIFAR-10 Batch 5:  Loss:       1.29, Accuracy: 0.528600\n",
      "Epoch 14, CIFAR-10 Batch 1:  Loss:       1.31, Accuracy: 0.529400\n",
      "Epoch 14, CIFAR-10 Batch 2:  Loss:       1.31, Accuracy: 0.525400\n",
      "Epoch 14, CIFAR-10 Batch 3:  Loss:       1.19, Accuracy: 0.540000\n",
      "Epoch 14, CIFAR-10 Batch 4:  Loss:       1.21, Accuracy: 0.538400\n",
      "Epoch 14, CIFAR-10 Batch 5:  Loss:       1.25, Accuracy: 0.545200\n",
      "Epoch 15, CIFAR-10 Batch 1:  Loss:       1.28, Accuracy: 0.546000\n",
      "Epoch 15, CIFAR-10 Batch 2:  Loss:       1.25, Accuracy: 0.552400\n",
      "Epoch 15, CIFAR-10 Batch 3:  Loss:       1.16, Accuracy: 0.559600\n",
      "Epoch 15, CIFAR-10 Batch 4:  Loss:       1.19, Accuracy: 0.547600\n",
      "Epoch 15, CIFAR-10 Batch 5:  Loss:       1.24, Accuracy: 0.553400\n",
      "Epoch 16, CIFAR-10 Batch 1:  Loss:       1.26, Accuracy: 0.553600\n",
      "Epoch 16, CIFAR-10 Batch 2:  Loss:       1.21, Accuracy: 0.565600\n",
      "Epoch 16, CIFAR-10 Batch 3:  Loss:       1.13, Accuracy: 0.564400\n",
      "Epoch 16, CIFAR-10 Batch 4:  Loss:       1.17, Accuracy: 0.560400\n",
      "Epoch 16, CIFAR-10 Batch 5:  Loss:       1.24, Accuracy: 0.550200\n",
      "Epoch 17, CIFAR-10 Batch 1:  Loss:       1.24, Accuracy: 0.572800\n",
      "Epoch 17, CIFAR-10 Batch 2:  Loss:       1.20, Accuracy: 0.562200\n",
      "Epoch 17, CIFAR-10 Batch 3:  Loss:       1.11, Accuracy: 0.570200\n",
      "Epoch 17, CIFAR-10 Batch 4:  Loss:       1.12, Accuracy: 0.578600\n",
      "Epoch 17, CIFAR-10 Batch 5:  Loss:       1.18, Accuracy: 0.565400\n",
      "Epoch 18, CIFAR-10 Batch 1:  Loss:       1.21, Accuracy: 0.580600\n",
      "Epoch 18, CIFAR-10 Batch 2:  Loss:       1.17, Accuracy: 0.565400\n",
      "Epoch 18, CIFAR-10 Batch 3:  Loss:       1.10, Accuracy: 0.584200\n",
      "Epoch 18, CIFAR-10 Batch 4:  Loss:       1.09, Accuracy: 0.583200\n",
      "Epoch 18, CIFAR-10 Batch 5:  Loss:       1.16, Accuracy: 0.573000\n",
      "Epoch 19, CIFAR-10 Batch 1:  Loss:       1.19, Accuracy: 0.583600\n",
      "Epoch 19, CIFAR-10 Batch 2:  Loss:       1.16, Accuracy: 0.579800\n",
      "Epoch 19, CIFAR-10 Batch 3:  Loss:       1.08, Accuracy: 0.584000\n",
      "Epoch 19, CIFAR-10 Batch 4:  Loss:       1.09, Accuracy: 0.583800\n",
      "Epoch 19, CIFAR-10 Batch 5:  Loss:       1.15, Accuracy: 0.579600\n",
      "Epoch 20, CIFAR-10 Batch 1:  Loss:       1.18, Accuracy: 0.591000\n",
      "Epoch 20, CIFAR-10 Batch 2:  Loss:       1.14, Accuracy: 0.585600\n",
      "Epoch 20, CIFAR-10 Batch 3:  Loss:       1.08, Accuracy: 0.579800\n",
      "Epoch 20, CIFAR-10 Batch 4:  Loss:       1.08, Accuracy: 0.582800\n",
      "Epoch 20, CIFAR-10 Batch 5:  Loss:       1.12, Accuracy: 0.585600\n",
      "Epoch 21, CIFAR-10 Batch 1:  Loss:       1.14, Accuracy: 0.592600\n",
      "Epoch 21, CIFAR-10 Batch 2:  Loss:       1.12, Accuracy: 0.591800\n",
      "Epoch 21, CIFAR-10 Batch 3:  Loss:       1.06, Accuracy: 0.589400\n",
      "Epoch 21, CIFAR-10 Batch 4:  Loss:       1.05, Accuracy: 0.597400\n",
      "Epoch 21, CIFAR-10 Batch 5:  Loss:       1.11, Accuracy: 0.591000\n",
      "Epoch 22, CIFAR-10 Batch 1:  Loss:       1.12, Accuracy: 0.600400\n",
      "Epoch 22, CIFAR-10 Batch 2:  Loss:       1.09, Accuracy: 0.606600\n",
      "Epoch 22, CIFAR-10 Batch 3:  Loss:       1.03, Accuracy: 0.596600\n",
      "Epoch 22, CIFAR-10 Batch 4:  Loss:       1.02, Accuracy: 0.609600\n",
      "Epoch 22, CIFAR-10 Batch 5:  Loss:       1.08, Accuracy: 0.599200\n",
      "Epoch 23, CIFAR-10 Batch 1:  Loss:       1.09, Accuracy: 0.606800\n",
      "Epoch 23, CIFAR-10 Batch 2:  Loss:       1.09, Accuracy: 0.609200\n",
      "Epoch 23, CIFAR-10 Batch 3:  Loss:       1.01, Accuracy: 0.603200\n",
      "Epoch 23, CIFAR-10 Batch 4:  Loss:       1.01, Accuracy: 0.607400\n",
      "Epoch 23, CIFAR-10 Batch 5:  Loss:       1.07, Accuracy: 0.597400\n",
      "Epoch 24, CIFAR-10 Batch 1:  Loss:       1.10, Accuracy: 0.608800\n",
      "Epoch 24, CIFAR-10 Batch 2:  Loss:       1.06, Accuracy: 0.613200\n",
      "Epoch 24, CIFAR-10 Batch 3:  Loss:       1.00, Accuracy: 0.607200\n",
      "Epoch 24, CIFAR-10 Batch 4:  Loss:       0.99, Accuracy: 0.611000\n",
      "Epoch 24, CIFAR-10 Batch 5:  Loss:       1.07, Accuracy: 0.602200\n",
      "Epoch 25, CIFAR-10 Batch 1:  Loss:       1.08, Accuracy: 0.615200\n",
      "Epoch 25, CIFAR-10 Batch 2:  Loss:       1.04, Accuracy: 0.618000\n",
      "Epoch 25, CIFAR-10 Batch 3:  Loss:       0.99, Accuracy: 0.606200\n",
      "Epoch 25, CIFAR-10 Batch 4:  Loss:       0.97, Accuracy: 0.618800\n",
      "Epoch 25, CIFAR-10 Batch 5:  Loss:       1.05, Accuracy: 0.603400\n",
      "Epoch 26, CIFAR-10 Batch 1:  Loss:       1.07, Accuracy: 0.620400\n",
      "Epoch 26, CIFAR-10 Batch 2:  Loss:       1.03, Accuracy: 0.622400\n",
      "Epoch 26, CIFAR-10 Batch 3:  Loss:       0.98, Accuracy: 0.609000\n",
      "Epoch 26, CIFAR-10 Batch 4:  Loss:       0.97, Accuracy: 0.618600\n",
      "Epoch 26, CIFAR-10 Batch 5:  Loss:       1.03, Accuracy: 0.612800\n",
      "Epoch 27, CIFAR-10 Batch 1:  Loss:       1.05, Accuracy: 0.627800\n",
      "Epoch 27, CIFAR-10 Batch 2:  Loss:       1.01, Accuracy: 0.624800\n",
      "Epoch 27, CIFAR-10 Batch 3:  Loss:       0.95, Accuracy: 0.621200\n",
      "Epoch 27, CIFAR-10 Batch 4:  Loss:       0.95, Accuracy: 0.616600\n",
      "Epoch 27, CIFAR-10 Batch 5:  Loss:       1.00, Accuracy: 0.618800\n",
      "Epoch 28, CIFAR-10 Batch 1:  Loss:       1.02, Accuracy: 0.623600\n",
      "Epoch 28, CIFAR-10 Batch 2:  Loss:       1.03, Accuracy: 0.621400\n",
      "Epoch 28, CIFAR-10 Batch 3:  Loss:       0.94, Accuracy: 0.624400\n",
      "Epoch 28, CIFAR-10 Batch 4:  Loss:       0.94, Accuracy: 0.621400\n",
      "Epoch 28, CIFAR-10 Batch 5:  Loss:       0.99, Accuracy: 0.623600\n",
      "Epoch 29, CIFAR-10 Batch 1:  Loss:       1.01, Accuracy: 0.633400\n",
      "Epoch 29, CIFAR-10 Batch 2:  Loss:       1.04, Accuracy: 0.612000\n",
      "Epoch 29, CIFAR-10 Batch 3:  Loss:       0.92, Accuracy: 0.628200\n",
      "Epoch 29, CIFAR-10 Batch 4:  Loss:       0.92, Accuracy: 0.628000\n",
      "Epoch 29, CIFAR-10 Batch 5:  Loss:       0.98, Accuracy: 0.628800\n",
      "Epoch 30, CIFAR-10 Batch 1:  Loss:       1.00, Accuracy: 0.632000\n",
      "Epoch 30, CIFAR-10 Batch 2:  Loss:       0.99, Accuracy: 0.630000\n",
      "Epoch 30, CIFAR-10 Batch 3:  Loss:       0.93, Accuracy: 0.615400\n",
      "Epoch 30, CIFAR-10 Batch 4:  Loss:       0.92, Accuracy: 0.629200\n",
      "Epoch 30, CIFAR-10 Batch 5:  Loss:       0.98, Accuracy: 0.628400\n",
      "Epoch 31, CIFAR-10 Batch 1:  Loss:       0.99, Accuracy: 0.635000\n",
      "Epoch 31, CIFAR-10 Batch 2:  Loss:       1.03, Accuracy: 0.609600\n",
      "Epoch 31, CIFAR-10 Batch 3:  Loss:       0.92, Accuracy: 0.629800\n",
      "Epoch 31, CIFAR-10 Batch 4:  Loss:       0.89, Accuracy: 0.635400\n",
      "Epoch 31, CIFAR-10 Batch 5:  Loss:       0.95, Accuracy: 0.629200\n",
      "Epoch 32, CIFAR-10 Batch 1:  Loss:       0.97, Accuracy: 0.633400\n",
      "Epoch 32, CIFAR-10 Batch 2:  Loss:       1.00, Accuracy: 0.619200\n",
      "Epoch 32, CIFAR-10 Batch 3:  Loss:       0.89, Accuracy: 0.632400\n",
      "Epoch 32, CIFAR-10 Batch 4:  Loss:       0.87, Accuracy: 0.639200\n",
      "Epoch 32, CIFAR-10 Batch 5:  Loss:       0.94, Accuracy: 0.630000\n",
      "Epoch 33, CIFAR-10 Batch 1:  Loss:       0.97, Accuracy: 0.638600\n",
      "Epoch 33, CIFAR-10 Batch 2:  Loss:       1.01, Accuracy: 0.621400\n",
      "Epoch 33, CIFAR-10 Batch 3:  Loss:       0.88, Accuracy: 0.639200\n",
      "Epoch 33, CIFAR-10 Batch 4:  Loss:       0.89, Accuracy: 0.636600\n",
      "Epoch 33, CIFAR-10 Batch 5:  Loss:       0.94, Accuracy: 0.637600\n",
      "Epoch 34, CIFAR-10 Batch 1:  Loss:       0.99, Accuracy: 0.638400\n",
      "Epoch 34, CIFAR-10 Batch 2:  Loss:       0.96, Accuracy: 0.640800\n",
      "Epoch 34, CIFAR-10 Batch 3:  Loss:       0.85, Accuracy: 0.647400\n",
      "Epoch 34, CIFAR-10 Batch 4:  Loss:       0.86, Accuracy: 0.641200\n",
      "Epoch 34, CIFAR-10 Batch 5:  Loss:       0.93, Accuracy: 0.641600\n",
      "Epoch 35, CIFAR-10 Batch 1:  Loss:       0.95, Accuracy: 0.641200\n",
      "Epoch 35, CIFAR-10 Batch 2:  Loss:       0.96, Accuracy: 0.635600\n",
      "Epoch 35, CIFAR-10 Batch 3:  Loss:       0.85, Accuracy: 0.643600\n",
      "Epoch 35, CIFAR-10 Batch 4:  Loss:       0.84, Accuracy: 0.642600\n",
      "Epoch 35, CIFAR-10 Batch 5:  Loss:       0.92, Accuracy: 0.634400\n",
      "Epoch 36, CIFAR-10 Batch 1:  Loss:       0.94, Accuracy: 0.644000\n",
      "Epoch 36, CIFAR-10 Batch 2:  Loss:       0.92, Accuracy: 0.641200\n",
      "Epoch 36, CIFAR-10 Batch 3:  Loss:       0.85, Accuracy: 0.645800\n",
      "Epoch 36, CIFAR-10 Batch 4:  Loss:       0.84, Accuracy: 0.644400\n",
      "Epoch 36, CIFAR-10 Batch 5:  Loss:       0.91, Accuracy: 0.644000\n",
      "Epoch 37, CIFAR-10 Batch 1:  Loss:       0.94, Accuracy: 0.648800\n",
      "Epoch 37, CIFAR-10 Batch 2:  Loss:       0.93, Accuracy: 0.642800\n",
      "Epoch 37, CIFAR-10 Batch 3:  Loss:       0.84, Accuracy: 0.641200\n",
      "Epoch 37, CIFAR-10 Batch 4:  Loss:       0.83, Accuracy: 0.650000\n",
      "Epoch 37, CIFAR-10 Batch 5:  Loss:       0.87, Accuracy: 0.650400\n",
      "Epoch 38, CIFAR-10 Batch 1:  Loss:       0.92, Accuracy: 0.653400\n",
      "Epoch 38, CIFAR-10 Batch 2:  Loss:       0.91, Accuracy: 0.645200\n",
      "Epoch 38, CIFAR-10 Batch 3:  Loss:       0.83, Accuracy: 0.647000\n",
      "Epoch 38, CIFAR-10 Batch 4:  Loss:       0.81, Accuracy: 0.653200\n",
      "Epoch 38, CIFAR-10 Batch 5:  Loss:       0.88, Accuracy: 0.648600\n",
      "Epoch 39, CIFAR-10 Batch 1:  Loss:       0.92, Accuracy: 0.651800\n",
      "Epoch 39, CIFAR-10 Batch 2:  Loss:       0.94, Accuracy: 0.637600\n",
      "Epoch 39, CIFAR-10 Batch 3:  Loss:       0.82, Accuracy: 0.656400\n",
      "Epoch 39, CIFAR-10 Batch 4:  Loss:       0.80, Accuracy: 0.655200\n",
      "Epoch 39, CIFAR-10 Batch 5:  Loss:       0.86, Accuracy: 0.651400\n",
      "Epoch 40, CIFAR-10 Batch 1:  Loss:       0.92, Accuracy: 0.652200\n",
      "Epoch 40, CIFAR-10 Batch 2:  Loss:       0.90, Accuracy: 0.646400\n",
      "Epoch 40, CIFAR-10 Batch 3:  Loss:       0.83, Accuracy: 0.652200\n",
      "Epoch 40, CIFAR-10 Batch 4:  Loss:       0.81, Accuracy: 0.651000\n",
      "Epoch 40, CIFAR-10 Batch 5:  Loss:       0.87, Accuracy: 0.643000\n",
      "Epoch 41, CIFAR-10 Batch 1:  Loss:       0.91, Accuracy: 0.654400\n",
      "Epoch 41, CIFAR-10 Batch 2:  Loss:       0.91, Accuracy: 0.636200\n",
      "Epoch 41, CIFAR-10 Batch 3:  Loss:       0.79, Accuracy: 0.662600\n",
      "Epoch 41, CIFAR-10 Batch 4:  Loss:       0.78, Accuracy: 0.660600\n",
      "Epoch 41, CIFAR-10 Batch 5:  Loss:       0.84, Accuracy: 0.659000\n",
      "Epoch 42, CIFAR-10 Batch 1:  Loss:       0.87, Accuracy: 0.663000\n",
      "Epoch 42, CIFAR-10 Batch 2:  Loss:       0.86, Accuracy: 0.657800\n",
      "Epoch 42, CIFAR-10 Batch 3:  Loss:       0.78, Accuracy: 0.656000\n",
      "Epoch 42, CIFAR-10 Batch 4:  Loss:       0.76, Accuracy: 0.670400\n",
      "Epoch 42, CIFAR-10 Batch 5:  Loss:       0.82, Accuracy: 0.661400\n",
      "Epoch 43, CIFAR-10 Batch 1:  Loss:       0.84, Accuracy: 0.668800\n",
      "Epoch 43, CIFAR-10 Batch 2:  Loss:       0.82, Accuracy: 0.665000\n",
      "Epoch 43, CIFAR-10 Batch 3:  Loss:       0.79, Accuracy: 0.657200\n",
      "Epoch 43, CIFAR-10 Batch 4:  Loss:       0.74, Accuracy: 0.670600\n",
      "Epoch 43, CIFAR-10 Batch 5:  Loss:       0.79, Accuracy: 0.659600\n",
      "Epoch 44, CIFAR-10 Batch 1:  Loss:       0.83, Accuracy: 0.673600\n",
      "Epoch 44, CIFAR-10 Batch 2:  Loss:       0.87, Accuracy: 0.657800\n",
      "Epoch 44, CIFAR-10 Batch 3:  Loss:       0.76, Accuracy: 0.664200\n",
      "Epoch 44, CIFAR-10 Batch 4:  Loss:       0.74, Accuracy: 0.673000\n",
      "Epoch 44, CIFAR-10 Batch 5:  Loss:       0.78, Accuracy: 0.668200\n",
      "Epoch 45, CIFAR-10 Batch 1:  Loss:       0.83, Accuracy: 0.670200\n",
      "Epoch 45, CIFAR-10 Batch 2:  Loss:       0.83, Accuracy: 0.670800\n",
      "Epoch 45, CIFAR-10 Batch 3:  Loss:       0.72, Accuracy: 0.673800\n",
      "Epoch 45, CIFAR-10 Batch 4:  Loss:       0.73, Accuracy: 0.676200\n",
      "Epoch 45, CIFAR-10 Batch 5:  Loss:       0.79, Accuracy: 0.669000\n",
      "Epoch 46, CIFAR-10 Batch 1:  Loss:       0.80, Accuracy: 0.674000\n",
      "Epoch 46, CIFAR-10 Batch 2:  Loss:       0.83, Accuracy: 0.669400\n",
      "Epoch 46, CIFAR-10 Batch 3:  Loss:       0.73, Accuracy: 0.683200\n",
      "Epoch 46, CIFAR-10 Batch 4:  Loss:       0.71, Accuracy: 0.681600\n",
      "Epoch 46, CIFAR-10 Batch 5:  Loss:       0.75, Accuracy: 0.679000\n",
      "Epoch 47, CIFAR-10 Batch 1:  Loss:       0.78, Accuracy: 0.681800\n",
      "Epoch 47, CIFAR-10 Batch 2:  Loss:       0.86, Accuracy: 0.656200\n",
      "Epoch 47, CIFAR-10 Batch 3:  Loss:       0.72, Accuracy: 0.677800\n",
      "Epoch 47, CIFAR-10 Batch 4:  Loss:       0.69, Accuracy: 0.687400\n",
      "Epoch 47, CIFAR-10 Batch 5:  Loss:       0.77, Accuracy: 0.666200\n",
      "Epoch 48, CIFAR-10 Batch 1:  Loss:       0.82, Accuracy: 0.676800\n",
      "Epoch 48, CIFAR-10 Batch 2:  Loss:       0.81, Accuracy: 0.674200\n",
      "Epoch 48, CIFAR-10 Batch 3:  Loss:       0.70, Accuracy: 0.679200\n",
      "Epoch 48, CIFAR-10 Batch 4:  Loss:       0.69, Accuracy: 0.685200\n",
      "Epoch 48, CIFAR-10 Batch 5:  Loss:       0.75, Accuracy: 0.679400\n",
      "Epoch 49, CIFAR-10 Batch 1:  Loss:       0.78, Accuracy: 0.682600\n",
      "Epoch 49, CIFAR-10 Batch 2:  Loss:       0.81, Accuracy: 0.674600\n",
      "Epoch 49, CIFAR-10 Batch 3:  Loss:       0.70, Accuracy: 0.677400\n",
      "Epoch 49, CIFAR-10 Batch 4:  Loss:       0.67, Accuracy: 0.690800\n",
      "Epoch 49, CIFAR-10 Batch 5:  Loss:       0.73, Accuracy: 0.682600\n",
      "Epoch 50, CIFAR-10 Batch 1:  Loss:       0.75, Accuracy: 0.692200\n",
      "Epoch 50, CIFAR-10 Batch 2:  Loss:       0.80, Accuracy: 0.674400\n",
      "Epoch 50, CIFAR-10 Batch 3:  Loss:       0.68, Accuracy: 0.688000\n",
      "Epoch 50, CIFAR-10 Batch 4:  Loss:       0.65, Accuracy: 0.697000\n",
      "Epoch 50, CIFAR-10 Batch 5:  Loss:       0.72, Accuracy: 0.684400\n",
      "Epoch 51, CIFAR-10 Batch 1:  Loss:       0.77, Accuracy: 0.688400\n",
      "Epoch 51, CIFAR-10 Batch 2:  Loss:       0.77, Accuracy: 0.678800\n",
      "Epoch 51, CIFAR-10 Batch 3:  Loss:       0.68, Accuracy: 0.679400\n",
      "Epoch 51, CIFAR-10 Batch 4:  Loss:       0.64, Accuracy: 0.697400\n",
      "Epoch 51, CIFAR-10 Batch 5:  Loss:       0.71, Accuracy: 0.687400\n",
      "Epoch 52, CIFAR-10 Batch 1:  Loss:       0.75, Accuracy: 0.695800\n",
      "Epoch 52, CIFAR-10 Batch 2:  Loss:       0.78, Accuracy: 0.684000\n",
      "Epoch 52, CIFAR-10 Batch 3:  Loss:       0.70, Accuracy: 0.687200\n",
      "Epoch 52, CIFAR-10 Batch 4:  Loss:       0.65, Accuracy: 0.698800\n",
      "Epoch 52, CIFAR-10 Batch 5:  Loss:       0.71, Accuracy: 0.689600\n",
      "Epoch 53, CIFAR-10 Batch 1:  Loss:       0.74, Accuracy: 0.691200\n",
      "Epoch 53, CIFAR-10 Batch 2:  Loss:       0.84, Accuracy: 0.665000\n",
      "Epoch 53, CIFAR-10 Batch 3:  Loss:       0.66, Accuracy: 0.692200\n",
      "Epoch 53, CIFAR-10 Batch 4:  Loss:       0.64, Accuracy: 0.704000\n",
      "Epoch 53, CIFAR-10 Batch 5:  Loss:       0.71, Accuracy: 0.693400\n",
      "Epoch 54, CIFAR-10 Batch 1:  Loss:       0.75, Accuracy: 0.699000\n",
      "Epoch 54, CIFAR-10 Batch 2:  Loss:       0.76, Accuracy: 0.685000\n",
      "Epoch 54, CIFAR-10 Batch 3:  Loss:       0.65, Accuracy: 0.698800\n",
      "Epoch 54, CIFAR-10 Batch 4:  Loss:       0.61, Accuracy: 0.703000\n",
      "Epoch 54, CIFAR-10 Batch 5:  Loss:       0.70, Accuracy: 0.692200\n",
      "Epoch 55, CIFAR-10 Batch 1:  Loss:       0.74, Accuracy: 0.698000\n",
      "Epoch 55, CIFAR-10 Batch 2:  Loss:       0.79, Accuracy: 0.669400\n",
      "Epoch 55, CIFAR-10 Batch 3:  Loss:       0.64, Accuracy: 0.700800\n",
      "Epoch 55, CIFAR-10 Batch 4:  Loss:       0.63, Accuracy: 0.703400\n",
      "Epoch 55, CIFAR-10 Batch 5:  Loss:       0.68, Accuracy: 0.699600\n",
      "Epoch 56, CIFAR-10 Batch 1:  Loss:       0.71, Accuracy: 0.707400\n",
      "Epoch 56, CIFAR-10 Batch 2:  Loss:       0.77, Accuracy: 0.679400\n",
      "Epoch 56, CIFAR-10 Batch 3:  Loss:       0.63, Accuracy: 0.702600\n",
      "Epoch 56, CIFAR-10 Batch 4:  Loss:       0.62, Accuracy: 0.706200\n",
      "Epoch 56, CIFAR-10 Batch 5:  Loss:       0.69, Accuracy: 0.693200\n",
      "Epoch 57, CIFAR-10 Batch 1:  Loss:       0.70, Accuracy: 0.706800\n",
      "Epoch 57, CIFAR-10 Batch 2:  Loss:       0.73, Accuracy: 0.697600\n",
      "Epoch 57, CIFAR-10 Batch 3:  Loss:       0.62, Accuracy: 0.695400\n",
      "Epoch 57, CIFAR-10 Batch 4:  Loss:       0.61, Accuracy: 0.709400\n",
      "Epoch 57, CIFAR-10 Batch 5:  Loss:       0.68, Accuracy: 0.703600\n",
      "Epoch 58, CIFAR-10 Batch 1:  Loss:       0.69, Accuracy: 0.714400\n",
      "Epoch 58, CIFAR-10 Batch 2:  Loss:       0.75, Accuracy: 0.684600\n",
      "Epoch 58, CIFAR-10 Batch 3:  Loss:       0.62, Accuracy: 0.706600\n",
      "Epoch 58, CIFAR-10 Batch 4:  Loss:       0.59, Accuracy: 0.710400\n",
      "Epoch 58, CIFAR-10 Batch 5:  Loss:       0.66, Accuracy: 0.711000\n",
      "Epoch 59, CIFAR-10 Batch 1:  Loss:       0.71, Accuracy: 0.705000\n",
      "Epoch 59, CIFAR-10 Batch 2:  Loss:       0.75, Accuracy: 0.687000\n",
      "Epoch 59, CIFAR-10 Batch 3:  Loss:       0.64, Accuracy: 0.700600\n",
      "Epoch 59, CIFAR-10 Batch 4:  Loss:       0.60, Accuracy: 0.711000\n",
      "Epoch 59, CIFAR-10 Batch 5:  Loss:       0.66, Accuracy: 0.703400\n",
      "Epoch 60, CIFAR-10 Batch 1:  Loss:       0.72, Accuracy: 0.710000\n",
      "Epoch 60, CIFAR-10 Batch 2:  Loss:       0.71, Accuracy: 0.701800\n",
      "Epoch 60, CIFAR-10 Batch 3:  Loss:       0.65, Accuracy: 0.700000\n",
      "Epoch 60, CIFAR-10 Batch 4:  Loss:       0.57, Accuracy: 0.709000\n",
      "Epoch 60, CIFAR-10 Batch 5:  Loss:       0.64, Accuracy: 0.714800\n",
      "Epoch 61, CIFAR-10 Batch 1:  Loss:       0.71, Accuracy: 0.712200\n",
      "Epoch 61, CIFAR-10 Batch 2:  Loss:       0.71, Accuracy: 0.697000\n",
      "Epoch 61, CIFAR-10 Batch 3:  Loss:       0.61, Accuracy: 0.707000\n",
      "Epoch 61, CIFAR-10 Batch 4:  Loss:       0.57, Accuracy: 0.712200\n",
      "Epoch 61, CIFAR-10 Batch 5:  Loss:       0.65, Accuracy: 0.709000\n",
      "Epoch 62, CIFAR-10 Batch 1:  Loss:       0.69, Accuracy: 0.714800\n",
      "Epoch 62, CIFAR-10 Batch 2:  Loss:       0.70, Accuracy: 0.701200\n",
      "Epoch 62, CIFAR-10 Batch 3:  Loss:       0.62, Accuracy: 0.689600\n",
      "Epoch 62, CIFAR-10 Batch 4:  Loss:       0.59, Accuracy: 0.707600\n",
      "Epoch 62, CIFAR-10 Batch 5:  Loss:       0.64, Accuracy: 0.709000\n",
      "Epoch 63, CIFAR-10 Batch 1:  Loss:       0.68, Accuracy: 0.714400\n",
      "Epoch 63, CIFAR-10 Batch 2:  Loss:       0.67, Accuracy: 0.709800\n",
      "Epoch 63, CIFAR-10 Batch 3:  Loss:       0.61, Accuracy: 0.701200\n",
      "Epoch 63, CIFAR-10 Batch 4:  Loss:       0.56, Accuracy: 0.720800\n",
      "Epoch 63, CIFAR-10 Batch 5:  Loss:       0.65, Accuracy: 0.712400\n",
      "Epoch 64, CIFAR-10 Batch 1:  Loss:       0.66, Accuracy: 0.719200\n",
      "Epoch 64, CIFAR-10 Batch 2:  Loss:       0.70, Accuracy: 0.698800\n",
      "Epoch 64, CIFAR-10 Batch 3:  Loss:       0.61, Accuracy: 0.704800\n",
      "Epoch 64, CIFAR-10 Batch 4:  Loss:       0.56, Accuracy: 0.716000\n",
      "Epoch 64, CIFAR-10 Batch 5:  Loss:       0.65, Accuracy: 0.708400\n",
      "Epoch 65, CIFAR-10 Batch 1:  Loss:       0.67, Accuracy: 0.717400\n",
      "Epoch 65, CIFAR-10 Batch 2:  Loss:       0.66, Accuracy: 0.713600\n",
      "Epoch 65, CIFAR-10 Batch 3:  Loss:       0.62, Accuracy: 0.705400\n",
      "Epoch 65, CIFAR-10 Batch 4:  Loss:       0.57, Accuracy: 0.715000\n",
      "Epoch 65, CIFAR-10 Batch 5:  Loss:       0.63, Accuracy: 0.710800\n",
      "Epoch 66, CIFAR-10 Batch 1:  Loss:       0.66, Accuracy: 0.720400\n",
      "Epoch 66, CIFAR-10 Batch 2:  Loss:       0.71, Accuracy: 0.702800\n",
      "Epoch 66, CIFAR-10 Batch 3:  Loss:       0.59, Accuracy: 0.708400\n",
      "Epoch 66, CIFAR-10 Batch 4:  Loss:       0.56, Accuracy: 0.719600\n",
      "Epoch 66, CIFAR-10 Batch 5:  Loss:       0.64, Accuracy: 0.709200\n",
      "Epoch 67, CIFAR-10 Batch 1:  Loss:       0.65, Accuracy: 0.723000\n",
      "Epoch 67, CIFAR-10 Batch 2:  Loss:       0.75, Accuracy: 0.684400\n",
      "Epoch 67, CIFAR-10 Batch 3:  Loss:       0.59, Accuracy: 0.716200\n",
      "Epoch 67, CIFAR-10 Batch 4:  Loss:       0.57, Accuracy: 0.719600\n",
      "Epoch 67, CIFAR-10 Batch 5:  Loss:       0.63, Accuracy: 0.712800\n",
      "Epoch 68, CIFAR-10 Batch 1:  Loss:       0.65, Accuracy: 0.718600\n",
      "Epoch 68, CIFAR-10 Batch 2:  Loss:       0.71, Accuracy: 0.700800\n",
      "Epoch 68, CIFAR-10 Batch 3:  Loss:       0.60, Accuracy: 0.710000\n",
      "Epoch 68, CIFAR-10 Batch 4:  Loss:       0.55, Accuracy: 0.719600\n",
      "Epoch 68, CIFAR-10 Batch 5:  Loss:       0.64, Accuracy: 0.712800\n",
      "Epoch 69, CIFAR-10 Batch 1:  Loss:       0.64, Accuracy: 0.724000\n",
      "Epoch 69, CIFAR-10 Batch 2:  Loss:       0.69, Accuracy: 0.697000\n",
      "Epoch 69, CIFAR-10 Batch 3:  Loss:       0.61, Accuracy: 0.701800\n",
      "Epoch 69, CIFAR-10 Batch 4:  Loss:       0.55, Accuracy: 0.720000\n",
      "Epoch 69, CIFAR-10 Batch 5:  Loss:       0.62, Accuracy: 0.714200\n",
      "Epoch 70, CIFAR-10 Batch 1:  Loss:       0.65, Accuracy: 0.718800\n",
      "Epoch 70, CIFAR-10 Batch 2:  Loss:       0.70, Accuracy: 0.705000\n",
      "Epoch 70, CIFAR-10 Batch 3:  Loss:       0.61, Accuracy: 0.703200\n",
      "Epoch 70, CIFAR-10 Batch 4:  Loss:       0.55, Accuracy: 0.722400\n",
      "Epoch 70, CIFAR-10 Batch 5:  Loss:       0.63, Accuracy: 0.714000\n",
      "Epoch 71, CIFAR-10 Batch 1:  Loss:       0.61, Accuracy: 0.723200\n",
      "Epoch 71, CIFAR-10 Batch 2:  Loss:       0.65, Accuracy: 0.718400\n",
      "Epoch 71, CIFAR-10 Batch 3:  Loss:       0.58, Accuracy: 0.715000\n",
      "Epoch 71, CIFAR-10 Batch 4:  Loss:       0.54, Accuracy: 0.721400\n",
      "Epoch 71, CIFAR-10 Batch 5:  Loss:       0.64, Accuracy: 0.705000\n",
      "Epoch 72, CIFAR-10 Batch 1:  Loss:       0.62, Accuracy: 0.724000\n",
      "Epoch 72, CIFAR-10 Batch 2:  Loss:       0.65, Accuracy: 0.711200\n",
      "Epoch 72, CIFAR-10 Batch 3:  Loss:       0.59, Accuracy: 0.719200\n",
      "Epoch 72, CIFAR-10 Batch 4:  Loss:       0.54, Accuracy: 0.727400\n",
      "Epoch 72, CIFAR-10 Batch 5:  Loss:       0.61, Accuracy: 0.716200\n",
      "Epoch 73, CIFAR-10 Batch 1:  Loss:       0.62, Accuracy: 0.725800\n",
      "Epoch 73, CIFAR-10 Batch 2:  Loss:       0.64, Accuracy: 0.718000\n",
      "Epoch 73, CIFAR-10 Batch 3:  Loss:       0.61, Accuracy: 0.695000\n",
      "Epoch 73, CIFAR-10 Batch 4:  Loss:       0.54, Accuracy: 0.729800\n",
      "Epoch 73, CIFAR-10 Batch 5:  Loss:       0.59, Accuracy: 0.723600\n",
      "Epoch 74, CIFAR-10 Batch 1:  Loss:       0.61, Accuracy: 0.729200\n",
      "Epoch 74, CIFAR-10 Batch 2:  Loss:       0.63, Accuracy: 0.714400\n",
      "Epoch 74, CIFAR-10 Batch 3:  Loss:       0.56, Accuracy: 0.710200\n",
      "Epoch 74, CIFAR-10 Batch 4:  Loss:       0.54, Accuracy: 0.726600\n",
      "Epoch 74, CIFAR-10 Batch 5:  Loss:       0.58, Accuracy: 0.724600\n",
      "Epoch 75, CIFAR-10 Batch 1:  Loss:       0.61, Accuracy: 0.729000\n",
      "Epoch 75, CIFAR-10 Batch 2:  Loss:       0.65, Accuracy: 0.711400\n",
      "Epoch 75, CIFAR-10 Batch 3:  Loss:       0.58, Accuracy: 0.714400\n",
      "Epoch 75, CIFAR-10 Batch 4:  Loss:       0.54, Accuracy: 0.725200\n",
      "Epoch 75, CIFAR-10 Batch 5:  Loss:       0.57, Accuracy: 0.722600\n",
      "Epoch 76, CIFAR-10 Batch 1:  Loss:       0.58, Accuracy: 0.730600\n",
      "Epoch 76, CIFAR-10 Batch 2:  Loss:       0.62, Accuracy: 0.719000\n",
      "Epoch 76, CIFAR-10 Batch 3:  Loss:       0.62, Accuracy: 0.694000\n",
      "Epoch 76, CIFAR-10 Batch 4:  Loss:       0.54, Accuracy: 0.723600\n",
      "Epoch 76, CIFAR-10 Batch 5:  Loss:       0.60, Accuracy: 0.718800\n",
      "Epoch 77, CIFAR-10 Batch 1:  Loss:       0.59, Accuracy: 0.723400\n",
      "Epoch 77, CIFAR-10 Batch 2:  Loss:       0.65, Accuracy: 0.713400\n",
      "Epoch 77, CIFAR-10 Batch 3:  Loss:       0.63, Accuracy: 0.688600\n",
      "Epoch 77, CIFAR-10 Batch 4:  Loss:       0.53, Accuracy: 0.730600\n",
      "Epoch 77, CIFAR-10 Batch 5:  Loss:       0.57, Accuracy: 0.724200\n",
      "Epoch 78, CIFAR-10 Batch 1:  Loss:       0.57, Accuracy: 0.735400\n",
      "Epoch 78, CIFAR-10 Batch 2:  Loss:       0.61, Accuracy: 0.721400\n",
      "Epoch 78, CIFAR-10 Batch 3:  Loss:       0.58, Accuracy: 0.719400\n",
      "Epoch 78, CIFAR-10 Batch 4:  Loss:       0.51, Accuracy: 0.729600\n",
      "Epoch 78, CIFAR-10 Batch 5:  Loss:       0.57, Accuracy: 0.723800\n",
      "Epoch 79, CIFAR-10 Batch 1:  Loss:       0.59, Accuracy: 0.732000\n",
      "Epoch 79, CIFAR-10 Batch 2:  Loss:       0.60, Accuracy: 0.728400\n",
      "Epoch 79, CIFAR-10 Batch 3:  Loss:       0.56, Accuracy: 0.718000\n",
      "Epoch 79, CIFAR-10 Batch 4:  Loss:       0.50, Accuracy: 0.731600\n",
      "Epoch 79, CIFAR-10 Batch 5:  Loss:       0.56, Accuracy: 0.726600\n",
      "Epoch 80, CIFAR-10 Batch 1:  Loss:       0.61, Accuracy: 0.726800\n",
      "Epoch 80, CIFAR-10 Batch 2:  Loss:       0.62, Accuracy: 0.720400\n",
      "Epoch 80, CIFAR-10 Batch 3:  Loss:       0.59, Accuracy: 0.715000\n",
      "Epoch 80, CIFAR-10 Batch 4:  Loss:       0.50, Accuracy: 0.730800\n",
      "Epoch 80, CIFAR-10 Batch 5:  Loss:       0.56, Accuracy: 0.730000\n",
      "Epoch 81, CIFAR-10 Batch 1:  Loss:       0.59, Accuracy: 0.734200\n",
      "Epoch 81, CIFAR-10 Batch 2:  Loss:       0.60, Accuracy: 0.717800\n",
      "Epoch 81, CIFAR-10 Batch 3:  Loss:       0.56, Accuracy: 0.717600\n",
      "Epoch 81, CIFAR-10 Batch 4:  Loss:       0.51, Accuracy: 0.728800\n",
      "Epoch 81, CIFAR-10 Batch 5:  Loss:       0.57, Accuracy: 0.728600\n",
      "Epoch 82, CIFAR-10 Batch 1:  Loss:       0.59, Accuracy: 0.727800\n",
      "Epoch 82, CIFAR-10 Batch 2:  Loss:       0.58, Accuracy: 0.723200\n",
      "Epoch 82, CIFAR-10 Batch 3:  Loss:       0.60, Accuracy: 0.702600\n",
      "Epoch 82, CIFAR-10 Batch 4:  Loss:       0.53, Accuracy: 0.719800\n",
      "Epoch 82, CIFAR-10 Batch 5:  Loss:       0.56, Accuracy: 0.731600\n",
      "Epoch 83, CIFAR-10 Batch 1:  Loss:       0.59, Accuracy: 0.735400\n",
      "Epoch 83, CIFAR-10 Batch 2:  Loss:       0.65, Accuracy: 0.705000\n",
      "Epoch 83, CIFAR-10 Batch 3:  Loss:       0.57, Accuracy: 0.710800\n",
      "Epoch 83, CIFAR-10 Batch 4:  Loss:       0.51, Accuracy: 0.731600\n",
      "Epoch 83, CIFAR-10 Batch 5:  Loss:       0.54, Accuracy: 0.725000\n",
      "Epoch 84, CIFAR-10 Batch 1:  Loss:       0.58, Accuracy: 0.732200\n",
      "Epoch 84, CIFAR-10 Batch 2:  Loss:       0.63, Accuracy: 0.711200\n",
      "Epoch 84, CIFAR-10 Batch 3:  Loss:       0.55, Accuracy: 0.724400\n",
      "Epoch 84, CIFAR-10 Batch 4:  Loss:       0.51, Accuracy: 0.722000\n",
      "Epoch 84, CIFAR-10 Batch 5:  Loss:       0.53, Accuracy: 0.734000\n",
      "Epoch 85, CIFAR-10 Batch 1:  Loss:       0.57, Accuracy: 0.727000\n",
      "Epoch 85, CIFAR-10 Batch 2:  Loss:       0.61, Accuracy: 0.719200\n",
      "Epoch 85, CIFAR-10 Batch 3:  Loss:       0.56, Accuracy: 0.720200\n",
      "Epoch 85, CIFAR-10 Batch 4:  Loss:       0.48, Accuracy: 0.734200\n",
      "Epoch 85, CIFAR-10 Batch 5:  Loss:       0.53, Accuracy: 0.726200\n",
      "Epoch 86, CIFAR-10 Batch 1:  Loss:       0.57, Accuracy: 0.729000\n",
      "Epoch 86, CIFAR-10 Batch 2:  Loss:       0.57, Accuracy: 0.723200\n",
      "Epoch 86, CIFAR-10 Batch 3:  Loss:       0.57, Accuracy: 0.706000\n",
      "Epoch 86, CIFAR-10 Batch 4:  Loss:       0.50, Accuracy: 0.733600\n",
      "Epoch 86, CIFAR-10 Batch 5:  Loss:       0.53, Accuracy: 0.727800\n",
      "Epoch 87, CIFAR-10 Batch 1:  Loss:       0.57, Accuracy: 0.736000\n",
      "Epoch 87, CIFAR-10 Batch 2:  Loss:       0.58, Accuracy: 0.725200\n",
      "Epoch 87, CIFAR-10 Batch 3:  Loss:       0.55, Accuracy: 0.709800\n",
      "Epoch 87, CIFAR-10 Batch 4:  Loss:       0.49, Accuracy: 0.727400\n",
      "Epoch 87, CIFAR-10 Batch 5:  Loss:       0.52, Accuracy: 0.730600\n",
      "Epoch 88, CIFAR-10 Batch 1:  Loss:       0.55, Accuracy: 0.737200\n",
      "Epoch 88, CIFAR-10 Batch 2:  Loss:       0.54, Accuracy: 0.739000\n",
      "Epoch 88, CIFAR-10 Batch 3:  Loss:       0.56, Accuracy: 0.714800\n",
      "Epoch 88, CIFAR-10 Batch 4:  Loss:       0.48, Accuracy: 0.736600\n",
      "Epoch 88, CIFAR-10 Batch 5:  Loss:       0.53, Accuracy: 0.728200\n",
      "Epoch 89, CIFAR-10 Batch 1:  Loss:       0.55, Accuracy: 0.734400\n",
      "Epoch 89, CIFAR-10 Batch 2:  Loss:       0.61, Accuracy: 0.712600\n",
      "Epoch 89, CIFAR-10 Batch 3:  Loss:       0.52, Accuracy: 0.722800\n",
      "Epoch 89, CIFAR-10 Batch 4:  Loss:       0.51, Accuracy: 0.725000\n",
      "Epoch 89, CIFAR-10 Batch 5:  Loss:       0.53, Accuracy: 0.730000\n",
      "Epoch 90, CIFAR-10 Batch 1:  Loss:       0.55, Accuracy: 0.733400\n",
      "Epoch 90, CIFAR-10 Batch 2:  Loss:       0.56, Accuracy: 0.728800\n",
      "Epoch 90, CIFAR-10 Batch 3:  Loss:       0.58, Accuracy: 0.695200\n",
      "Epoch 90, CIFAR-10 Batch 4:  Loss:       0.49, Accuracy: 0.733200\n",
      "Epoch 90, CIFAR-10 Batch 5:  Loss:       0.54, Accuracy: 0.729000\n",
      "Epoch 91, CIFAR-10 Batch 1:  Loss:       0.53, Accuracy: 0.737800\n",
      "Epoch 91, CIFAR-10 Batch 2:  Loss:       0.55, Accuracy: 0.734200\n",
      "Epoch 91, CIFAR-10 Batch 3:  Loss:       0.55, Accuracy: 0.706200\n",
      "Epoch 91, CIFAR-10 Batch 4:  Loss:       0.50, Accuracy: 0.730200\n",
      "Epoch 91, CIFAR-10 Batch 5:  Loss:       0.52, Accuracy: 0.731200\n",
      "Epoch 92, CIFAR-10 Batch 1:  Loss:       0.55, Accuracy: 0.736800\n",
      "Epoch 92, CIFAR-10 Batch 2:  Loss:       0.56, Accuracy: 0.732400\n",
      "Epoch 92, CIFAR-10 Batch 3:  Loss:       0.54, Accuracy: 0.718600\n",
      "Epoch 92, CIFAR-10 Batch 4:  Loss:       0.47, Accuracy: 0.733200\n",
      "Epoch 92, CIFAR-10 Batch 5:  Loss:       0.51, Accuracy: 0.733600\n",
      "Epoch 93, CIFAR-10 Batch 1:  Loss:       0.53, Accuracy: 0.740400\n",
      "Epoch 93, CIFAR-10 Batch 2:  Loss:       0.55, Accuracy: 0.729600\n",
      "Epoch 93, CIFAR-10 Batch 3:  Loss:       0.55, Accuracy: 0.710200\n",
      "Epoch 93, CIFAR-10 Batch 4:  Loss:       0.48, Accuracy: 0.732200\n",
      "Epoch 93, CIFAR-10 Batch 5:  Loss:       0.53, Accuracy: 0.731800\n",
      "Epoch 94, CIFAR-10 Batch 1:  Loss:       0.54, Accuracy: 0.746200\n",
      "Epoch 94, CIFAR-10 Batch 2:  Loss:       0.60, Accuracy: 0.713000\n",
      "Epoch 94, CIFAR-10 Batch 3:  Loss:       0.50, Accuracy: 0.733400\n",
      "Epoch 94, CIFAR-10 Batch 4:  Loss:       0.45, Accuracy: 0.744400\n",
      "Epoch 94, CIFAR-10 Batch 5:  Loss:       0.51, Accuracy: 0.738200\n",
      "Epoch 95, CIFAR-10 Batch 1:  Loss:       0.52, Accuracy: 0.742200\n",
      "Epoch 95, CIFAR-10 Batch 2:  Loss:       0.55, Accuracy: 0.731800\n",
      "Epoch 95, CIFAR-10 Batch 3:  Loss:       0.52, Accuracy: 0.720400\n",
      "Epoch 95, CIFAR-10 Batch 4:  Loss:       0.48, Accuracy: 0.733400\n",
      "Epoch 95, CIFAR-10 Batch 5:  Loss:       0.51, Accuracy: 0.734000\n",
      "Epoch 96, CIFAR-10 Batch 1:  Loss:       0.53, Accuracy: 0.737400\n",
      "Epoch 96, CIFAR-10 Batch 2:  Loss:       0.56, Accuracy: 0.727600\n",
      "Epoch 96, CIFAR-10 Batch 3:  Loss:       0.51, Accuracy: 0.731200\n",
      "Epoch 96, CIFAR-10 Batch 4:  Loss:       0.46, Accuracy: 0.739400\n",
      "Epoch 96, CIFAR-10 Batch 5:  Loss:       0.51, Accuracy: 0.731000\n",
      "Epoch 97, CIFAR-10 Batch 1:  Loss:       0.52, Accuracy: 0.738000\n",
      "Epoch 97, CIFAR-10 Batch 2:  Loss:       0.52, Accuracy: 0.736000\n",
      "Epoch 97, CIFAR-10 Batch 3:  Loss:       0.53, Accuracy: 0.708600\n",
      "Epoch 97, CIFAR-10 Batch 4:  Loss:       0.48, Accuracy: 0.732800\n",
      "Epoch 97, CIFAR-10 Batch 5:  Loss:       0.50, Accuracy: 0.735000\n",
      "Epoch 98, CIFAR-10 Batch 1:  Loss:       0.53, Accuracy: 0.740000\n",
      "Epoch 98, CIFAR-10 Batch 2:  Loss:       0.54, Accuracy: 0.730200\n",
      "Epoch 98, CIFAR-10 Batch 3:  Loss:       0.56, Accuracy: 0.702200\n",
      "Epoch 98, CIFAR-10 Batch 4:  Loss:       0.47, Accuracy: 0.735200\n",
      "Epoch 98, CIFAR-10 Batch 5:  Loss:       0.52, Accuracy: 0.729000\n",
      "Epoch 99, CIFAR-10 Batch 1:  Loss:       0.51, Accuracy: 0.736000\n",
      "Epoch 99, CIFAR-10 Batch 2:  Loss:       0.54, Accuracy: 0.733800\n",
      "Epoch 99, CIFAR-10 Batch 3:  Loss:       0.51, Accuracy: 0.719800\n",
      "Epoch 99, CIFAR-10 Batch 4:  Loss:       0.47, Accuracy: 0.733400\n",
      "Epoch 99, CIFAR-10 Batch 5:  Loss:       0.52, Accuracy: 0.725800\n",
      "Epoch 100, CIFAR-10 Batch 1:  Loss:       0.53, Accuracy: 0.741800\n",
      "Epoch 100, CIFAR-10 Batch 2:  Loss:       0.51, Accuracy: 0.740400\n",
      "Epoch 100, CIFAR-10 Batch 3:  Loss:       0.53, Accuracy: 0.712800\n",
      "Epoch 100, CIFAR-10 Batch 4:  Loss:       0.45, Accuracy: 0.734000\n",
      "Epoch 100, CIFAR-10 Batch 5:  Loss:       0.50, Accuracy: 0.733600\n"
     ]
    }
   ],
   "source": [
    "\"\"\"\n",
    "DON'T MODIFY ANYTHING IN THIS CELL\n",
    "\"\"\"\n",
    "save_model_path = './image_classification'\n",
    "\n",
    "print('Training...')\n",
    "with tf.Session() as sess:\n",
    "    # Initializing the variables\n",
    "    sess.run(tf.global_variables_initializer())\n",
    "    \n",
    "    # Training cycle\n",
    "    for epoch in range(epochs):\n",
    "        # Loop over all batches\n",
    "        n_batches = 5\n",
    "        for batch_i in range(1, n_batches + 1):\n",
    "            for batch_features, batch_labels in helper.load_preprocess_training_batch(batch_i, batch_size):\n",
    "                train_neural_network(sess, optimizer, keep_probability, batch_features, batch_labels)\n",
    "            print('Epoch {:>2}, CIFAR-10 Batch {}:  '.format(epoch + 1, batch_i), end='')\n",
    "            print_stats(sess, batch_features, batch_labels, cost, accuracy)\n",
    "            \n",
    "    # Save Model\n",
    "    saver = tf.train.Saver()\n",
    "    save_path = saver.save(sess, save_model_path)"
   ]
  },
  {
   "cell_type": "markdown",
   "metadata": {
    "deletable": true,
    "editable": true
   },
   "source": [
    "# Checkpoint\n",
    "The model has been saved to disk.\n",
    "## Test Model\n",
    "Test your model against the test dataset.  This will be your final accuracy. You should have an accuracy greater than 50%. If you don't, keep tweaking the model architecture and parameters."
   ]
  },
  {
   "cell_type": "code",
   "execution_count": 18,
   "metadata": {
    "collapsed": false,
    "deletable": true,
    "editable": true
   },
   "outputs": [
    {
     "name": "stdout",
     "output_type": "stream",
     "text": [
      "Testing Accuracy: 0.7231215566396714\n",
      "\n"
     ]
    },
    {
     "data": {
      "image/png": "[encoded data removed]",
      "text/plain": [
       "<matplotlib.figure.Figure at 0x7f25eb0fb4a8>"
      ]
     },
     "metadata": {
      "image/png": {
       "height": 319,
       "width": 355
      }
     },
     "output_type": "display_data"
    }
   ],
   "source": [
    "\"\"\"\n",
    "DON'T MODIFY ANYTHING IN THIS CELL\n",
    "\"\"\"\n",
    "%matplotlib inline\n",
    "%config InlineBackend.figure_format = 'retina'\n",
    "\n",
    "import tensorflow as tf\n",
    "import pickle\n",
    "import helper\n",
    "import random\n",
    "\n",
    "# Set batch size if not already set\n",
    "try:\n",
    "    if batch_size:\n",
    "        pass\n",
    "except NameError:\n",
    "    batch_size = 64\n",
    "\n",
    "save_model_path = './image_classification'\n",
    "n_samples = 4\n",
    "top_n_predictions = 3\n",
    "\n",
    "def test_model():\n",
    "    \"\"\"\n",
    "    Test the saved model against the test dataset\n",
    "    \"\"\"\n",
    "\n",
    "    test_features, test_labels = pickle.load(open('preprocess_training.p', mode='rb'))\n",
    "    loaded_graph = tf.Graph()\n",
    "\n",
    "    with tf.Session(graph=loaded_graph) as sess:\n",
    "        # Load model\n",
    "        loader = tf.train.import_meta_graph(save_model_path + '.meta')\n",
    "        loader.restore(sess, save_model_path)\n",
    "\n",
    "        # Get Tensors from loaded model\n",
    "        loaded_x = loaded_graph.get_tensor_by_name('x:0')\n",
    "        loaded_y = loaded_graph.get_tensor_by_name('y:0')\n",
    "        loaded_keep_prob = loaded_graph.get_tensor_by_name('keep_prob:0')\n",
    "        loaded_logits = loaded_graph.get_tensor_by_name('logits:0')\n",
    "        loaded_acc = loaded_graph.get_tensor_by_name('accuracy:0')\n",
    "        \n",
    "        # Get accuracy in batches for memory limitations\n",
    "        test_batch_acc_total = 0\n",
    "        test_batch_count = 0\n",
    "        \n",
    "        for train_feature_batch, train_label_batch in helper.batch_features_labels(test_features, test_labels, batch_size):\n",
    "            test_batch_acc_total += sess.run(\n",
    "                loaded_acc,\n",
    "                feed_dict={loaded_x: train_feature_batch, loaded_y: train_label_batch, loaded_keep_prob: 1.0})\n",
    "            test_batch_count += 1\n",
    "\n",
    "        print('Testing Accuracy: {}\\n'.format(test_batch_acc_total/test_batch_count))\n",
    "\n",
    "        # Print Random Samples\n",
    "        random_test_features, random_test_labels = tuple(zip(*random.sample(list(zip(test_features, test_labels)), n_samples)))\n",
    "        random_test_predictions = sess.run(\n",
    "            tf.nn.top_k(tf.nn.softmax(loaded_logits), top_n_predictions),\n",
    "            feed_dict={loaded_x: random_test_features, loaded_y: random_test_labels, loaded_keep_prob: 1.0})\n",
    "        helper.display_image_predictions(random_test_features, random_test_labels, random_test_predictions)\n",
    "\n",
    "\n",
    "test_model()"
   ]
  },
  {
   "cell_type": "markdown",
   "metadata": {
    "deletable": true,
    "editable": true
   },
   "source": [
    "## Why 50-70% Accuracy?\n",
    "You might be wondering why you can't get an accuracy any higher. First things first, 50% isn't bad for a simple CNN.  Pure guessing would get you 10% accuracy. However, you might notice people are getting scores [well above 70%](http://rodrigob.github.io/are_we_there_yet/build/classification_datasets_results.html#43494641522d3130).  That's because we haven't taught you all there is to know about neural networks. We still need to cover a few more techniques.\n",
    "## Submitting This Project\n",
    "When submitting this project, make sure to run all the cells before saving the notebook.  Save the notebook file as \"dlnd_image_classification.ipynb\" and save it as a HTML file under \"File\" -> \"Download as\".  Include the \"helper.py\" and \"problem_unittests.py\" files in your submission."
   ]
  }
 ],
 "metadata": {
  "kernelspec": {
   "display_name": "Python 3",
   "language": "python",
   "name": "python3"
  },
  "language_info": {
   "codemirror_mode": {
    "name": "ipython",
    "version": 3
   },
   "file_extension": ".py",
   "mimetype": "text/x-python",
   "name": "python",
   "nbconvert_exporter": "python",
   "pygments_lexer": "ipython3",
   "version": "3.5.3"
  }
 },
 "nbformat": 4,
 "nbformat_minor": 0
}
